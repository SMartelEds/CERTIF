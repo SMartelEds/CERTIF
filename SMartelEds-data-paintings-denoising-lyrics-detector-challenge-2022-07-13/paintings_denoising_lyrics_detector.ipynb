{
 "cells": [
  {
   "cell_type": "markdown",
   "id": "d80cb012",
   "metadata": {},
   "source": [
    "## Legend"
   ]
  },
  {
   "cell_type": "markdown",
   "id": "3ca11620",
   "metadata": {},
   "source": [
    "🎯 Objective    \n",
    "❓ Question  \n",
    "📝 Task  \n",
    "☑️ Instructions  \n",
    "💡 Informations  \n",
    "💾 Submit your results  \n",
    "\n",
    "**variable name**  \n",
    "*field name*  \n",
    "`python object`"
   ]
  },
  {
   "cell_type": "markdown",
   "id": "55e01f2e",
   "metadata": {},
   "source": [
    "# Reconnaissance de formes par réseaux de neurones artificiels "
   ]
  },
  {
   "cell_type": "markdown",
   "id": "8628f997",
   "metadata": {},
   "source": [
    "This exam assesses the 3rd block of the certification *Reconnaissance de formes par réseaux de neurones artificiels*\n",
    "\n",
    "💡 It is split into 2 independent challenges:  \n",
    "- 🖼️ CNN challenge - Image Denoising  \n",
    "- 🎙️ RNN challenge - Lyrics Detector"
   ]
  },
  {
   "cell_type": "markdown",
   "id": "39f80cd6",
   "metadata": {},
   "source": [
    "# 🖼️ Image Denoising Challenge (2h)"
   ]
  },
  {
   "cell_type": "markdown",
   "id": "12b60a06",
   "metadata": {},
   "source": [
    "🎯 Design and train a denoising model  \n",
    "☑️ For a given noisy image $X$, your model should learn to predict the denoised image $y$."
   ]
  },
  {
   "cell_type": "markdown",
   "id": "6b0dfd0f",
   "metadata": {},
   "source": [
    "💡 This challenge assesses the following skills:\n",
    "- C14 Convertir les données entrantes (images et texte par exemple) en données adaptées pour un réseau de neurones (100%)\n",
    "- C15 Maîtriser les différentes architectures de réseau de neurones : convolutifs pour les images & récurrents pour les séries temporelles et les modèles de traitement automatique du langage (NLP) pour le texte (50%)\n",
    "- C16 Utiliser un réseau de neurones convolutifs pour étiqueter des images (100%)"
   ]
  },
  {
   "cell_type": "markdown",
   "id": "09444354",
   "metadata": {},
   "source": [
    "## 0. Imports\n",
    "\n",
    "☑️ Use the cell below to load the packages you use in this challenge"
   ]
  },
  {
   "cell_type": "code",
   "execution_count": 1,
   "id": "fc018266",
   "metadata": {
    "ExecuteTime": {
     "end_time": "2022-07-13T07:28:47.986297Z",
     "start_time": "2022-07-13T07:28:45.363635Z"
    },
    "tags": [
     "challengify"
    ]
   },
   "outputs": [
    {
     "name": "stderr",
     "output_type": "stream",
     "text": [
      "2022-07-13 09:28:46.133845: W tensorflow/stream_executor/platform/default/dso_loader.cc:64] Could not load dynamic library 'libcudart.so.11.0'; dlerror: libcudart.so.11.0: cannot open shared object file: No such file or directory\n",
      "2022-07-13 09:28:46.133862: I tensorflow/stream_executor/cuda/cudart_stub.cc:29] Ignore above cudart dlerror if you do not have a GPU set up on your machine.\n"
     ]
    }
   ],
   "source": [
    "from gensim.models import Word2Vec\n",
    "from sklearn import set_config; set_config(display='diagram')\n",
    "from sklearn.model_selection import learning_curve, cross_validate, cross_val_score, train_test_split, GridSearchCV\n",
    "from sklearn.pipeline import Pipeline, FeatureUnion, make_pipeline, make_union\n",
    "from sklearn.preprocessing import MinMaxScaler, OneHotEncoder, FunctionTransformer\n",
    "from tensorflow.keras.backend import expand_dims\n",
    "from tensorflow.keras.callbacks import EarlyStopping\n",
    "from tensorflow.keras.layers import Conv2D, MaxPooling2D, Flatten, Dense, Masking, SimpleRNN, LSTM, GRU, Embedding\n",
    "from tensorflow.keras.preprocessing.sequence import pad_sequences\n",
    "import joblib\n",
    "import matplotlib.pyplot as plt\n",
    "import numpy as np\n",
    "import pandas as pd\n",
    "import seaborn as sns"
   ]
  },
  {
   "cell_type": "markdown",
   "id": "7cd67a8f",
   "metadata": {},
   "source": [
    "## 1. Load Data"
   ]
  },
  {
   "cell_type": "markdown",
   "id": "430afb2b",
   "metadata": {},
   "source": [
    "📝 Download the dataset archive  \n",
    "💡 It contains colored as well as black & white images"
   ]
  },
  {
   "cell_type": "code",
   "execution_count": 2,
   "id": "c67d9e72",
   "metadata": {
    "ExecuteTime": {
     "end_time": "2022-07-13T07:29:24.349932Z",
     "start_time": "2022-07-13T07:28:47.987793Z"
    }
   },
   "outputs": [
    {
     "name": "stdout",
     "output_type": "stream",
     "text": [
      "  % Total    % Received % Xferd  Average Speed   Time    Time     Time  Current\n",
      "                                 Dload  Upload   Total   Spent    Left  Speed\n",
      "100 42.0M  100 42.0M    0     0  1200k      0  0:00:35  0:00:35 --:--:-- 1212k\n",
      "total 316\n",
      "-rw-rw-r-- 1 mickh mickh    196 Jul 13 09:03 Makefile\n",
      "drwx------ 2 mickh mickh  24576 Jul  2  2021 paintings\n",
      "-rw-rw-r-- 1 mickh mickh 282855 Jul 13 09:28 paintings_denoising_lyrics_detector.ipynb\n",
      "-rw-rw-r-- 1 mickh mickh    442 Jul 13 09:03 README.md\n",
      "drwxrwxr-x 2 mickh mickh   4096 Jul 13 09:03 tests\n"
     ]
    }
   ],
   "source": [
    "! curl https://wagon-public-datasets.s3.amazonaws.com/certification_france_2021_q2/paintings.zip > paintings.zip\n",
    "! unzip -nq \"paintings.zip\" \n",
    "! rm \"paintings.zip\"\n",
    "! ls -l"
   ]
  },
  {
   "cell_type": "code",
   "execution_count": 3,
   "id": "a56b0684",
   "metadata": {
    "ExecuteTime": {
     "end_time": "2022-07-13T07:29:24.377972Z",
     "start_time": "2022-07-13T07:29:24.353074Z"
    }
   },
   "outputs": [
    {
     "data": {
      "text/plain": [
       "['./paintings/Rembrandt_152.jpg',\n",
       " './paintings/Francisco_Goya_162.jpg',\n",
       " './paintings/Albrecht_DuÌ\\x88rer_259.jpg',\n",
       " './paintings/Michelangelo_27.jpg',\n",
       " './paintings/Marc_Chagall_116.jpg',\n",
       " './paintings/Edgar_Degas_2.jpg',\n",
       " './paintings/Edgar_Degas_459.jpg',\n",
       " './paintings/Edgar_Degas_206.jpg',\n",
       " './paintings/Albrecht_Duâ\\x95\\xa0Ãªrer_309.jpg',\n",
       " './paintings/Edgar_Degas_11.jpg',\n",
       " './paintings/Mikhail_Vrubel_33.jpg',\n",
       " './paintings/Albrecht_Duâ\\x95\\xa0Ãªrer_17.jpg',\n",
       " './paintings/Rembrandt_246.jpg',\n",
       " './paintings/Francisco_Goya_227.jpg',\n",
       " './paintings/Hieronymus_Bosch_32.jpg',\n",
       " './paintings/Jan_van_Eyck_80.jpg',\n",
       " './paintings/Edgar_Degas_213.jpg',\n",
       " './paintings/Edouard_Manet_39.jpg',\n",
       " './paintings/Jan_van_Eyck_22.jpg',\n",
       " './paintings/Marc_Chagall_138.jpg',\n",
       " './paintings/Edouard_Manet_46.jpg',\n",
       " './paintings/Jackson_Pollock_7.jpg',\n",
       " './paintings/Edgar_Degas_646.jpg',\n",
       " './paintings/Francisco_Goya_155.jpg',\n",
       " './paintings/Edgar_Degas_372.jpg',\n",
       " './paintings/Leonardo_da_Vinci_72.jpg',\n",
       " './paintings/Edouard_Manet_17.jpg',\n",
       " './paintings/Leonardo_da_Vinci_58.jpg',\n",
       " './paintings/Rembrandt_202.jpg',\n",
       " './paintings/Albrecht_Duâ\\x95\\xa0Ãªrer_200.jpg',\n",
       " './paintings/Michelangelo_49.jpg',\n",
       " './paintings/Albrecht_Duâ\\x95\\xa0Ãªrer_22.jpg',\n",
       " './paintings/Mikhail_Vrubel_48.jpg',\n",
       " './paintings/Edgar_Degas_422.jpg',\n",
       " './paintings/Rembrandt_67.jpg',\n",
       " './paintings/Leonardo_da_Vinci_65.jpg',\n",
       " './paintings/Diego_Rivera_3.jpg',\n",
       " './paintings/Amedeo_Modigliani_5.jpg',\n",
       " './paintings/Edgar_Degas_185.jpg',\n",
       " './paintings/Albrecht_DuÌ\\x88rer_222.jpg',\n",
       " './paintings/Edgar_Degas_85.jpg',\n",
       " './paintings/Francisco_Goya_94.jpg',\n",
       " './paintings/Diego_Velazquez_10.jpg',\n",
       " './paintings/Albrecht_DuÌ\\x88rer_34.jpg',\n",
       " './paintings/Diego_Rivera_10.jpg',\n",
       " './paintings/Jan_van_Eyck_66.jpg',\n",
       " './paintings/Albrecht_DuÌ\\x88rer_280.jpg',\n",
       " './paintings/Edgar_Degas_415.jpg',\n",
       " './paintings/Edgar_Degas_70.jpg',\n",
       " './paintings/Mikhail_Vrubel_55.jpg',\n",
       " './paintings/Edgar_Degas_149.jpg',\n",
       " './paintings/Rembrandt_239.jpg',\n",
       " './paintings/Henri_Matisse_135.jpg',\n",
       " './paintings/Edgar_Degas_60.jpg',\n",
       " './paintings/Albrecht_DuÌ\\x88rer_208.jpg',\n",
       " './paintings/Edgar_Degas_192.jpg',\n",
       " './paintings/Marc_Chagall_189.jpg',\n",
       " './paintings/Rembrandt_145.jpg',\n",
       " './paintings/Rembrandt_260.jpg',\n",
       " './paintings/Mikhail_Vrubel_138.jpg',\n",
       " './paintings/Amedeo_Modigliani_111.jpg',\n",
       " './paintings/Amedeo_Modigliani_133.jpg',\n",
       " './paintings/Edvard_Munch_51.jpg',\n",
       " './paintings/Edgar_Degas_42.jpg',\n",
       " './paintings/Edgar_Degas_574.jpg',\n",
       " './paintings/Albrecht_DuÌ\\x88rer_288.jpg',\n",
       " './paintings/Henri_Matisse_75.jpg',\n",
       " './paintings/Henri_Matisse_60.jpg',\n",
       " './paintings/Albrecht_Duâ\\x95\\xa0Ãªrer_107.jpg',\n",
       " './paintings/Jan_van_Eyck_51.jpg',\n",
       " './paintings/Rembrandt_52.jpg',\n",
       " './paintings/Albrecht_Duâ\\x95\\xa0Ãªrer_56.jpg',\n",
       " './paintings/Hieronymus_Bosch_106.jpg',\n",
       " './paintings/Albrecht_DuÌ\\x88rer_309.jpg',\n",
       " './paintings/Kazimir_Malevich_79.jpg',\n",
       " './paintings/Edouard_Manet_68.jpg',\n",
       " './paintings/Mikhail_Vrubel_6.jpg',\n",
       " './paintings/Diego_Velazquez_15.jpg',\n",
       " './paintings/Edgar_Degas_163.jpg',\n",
       " './paintings/Edgar_Degas_408.jpg',\n",
       " './paintings/Albrecht_DuÌ\\x88rer_129.jpg',\n",
       " './paintings/Albrecht_Duâ\\x95\\xa0Ãªrer_215.jpg',\n",
       " './paintings/Alfred_Sisley_60.jpg',\n",
       " './paintings/Marc_Chagall_80.jpg',\n",
       " './paintings/Edgar_Degas_178.jpg',\n",
       " './paintings/Edvard_Munch_15.jpg',\n",
       " './paintings/Leonardo_da_Vinci_36.jpg',\n",
       " './paintings/Albrecht_Duâ\\x95\\xa0Ãªrer_273.jpg',\n",
       " './paintings/Albrecht_DuÌ\\x88rer_70.jpg',\n",
       " './paintings/Edgar_Degas_336.jpg',\n",
       " './paintings/Henri_Rousseau_65.jpg',\n",
       " './paintings/Francisco_Goya_126.jpg',\n",
       " './paintings/Leonardo_da_Vinci_137.jpg',\n",
       " './paintings/Edgar_Degas_495.jpg',\n",
       " './paintings/Albrecht_DuÌ\\x88rer_158.jpg',\n",
       " './paintings/Albrecht_Duâ\\x95\\xa0Ãªrer_165.jpg',\n",
       " './paintings/Francisco_Goya_133.jpg',\n",
       " './paintings/Francisco_Goya_16.jpg',\n",
       " './paintings/Marc_Chagall_202.jpg',\n",
       " './paintings/Kazimir_Malevich_35.jpg',\n",
       " './paintings/Albrecht_Duâ\\x95\\xa0Ãªrer_49.jpg',\n",
       " './paintings/Mikhail_Vrubel_99.jpg',\n",
       " './paintings/Rembrandt_181.jpg',\n",
       " './paintings/Albrecht_Duâ\\x95\\xa0Ãªrer_114.jpg',\n",
       " './paintings/Hieronymus_Bosch_47.jpg',\n",
       " './paintings/Henri_Matisse_68.jpg',\n",
       " './paintings/Alfred_Sisley_143.jpg',\n",
       " './paintings/Hieronymus_Bosch_25.jpg',\n",
       " './paintings/Kazimir_Malevich_93.jpg',\n",
       " './paintings/Edgar_Degas_394.jpg',\n",
       " './paintings/Joan_Miro_6.jpg',\n",
       " './paintings/Henri_Matisse_82.jpg',\n",
       " './paintings/Francisco_Goya_177.jpg',\n",
       " './paintings/Leonardo_da_Vinci_115.jpg',\n",
       " './paintings/Diego_Rivera_32.jpg',\n",
       " './paintings/Amedeo_Modigliani_148.jpg',\n",
       " './paintings/Albrecht_DuÌ\\x88rer_114.jpg',\n",
       " './paintings/Marc_Chagall_130.jpg',\n",
       " './paintings/Albrecht_Duâ\\x95\\xa0Ãªrer_63.jpg',\n",
       " './paintings/Albrecht_DuÌ\\x88rer_316.jpg',\n",
       " './paintings/Edgar_Degas_228.jpg',\n",
       " './paintings/Eugene_Delacroix_28.jpg',\n",
       " './paintings/Mikhail_Vrubel_167.jpg',\n",
       " './paintings/Jan_van_Eyck_44.jpg',\n",
       " './paintings/Eugene_Delacroix_6.jpg',\n",
       " './paintings/Joan_Miro_84.jpg',\n",
       " './paintings/Kazimir_Malevich_57.jpg',\n",
       " './paintings/Mikhail_Vrubel_101.jpg',\n",
       " './paintings/Alfred_Sisley_259.jpg',\n",
       " './paintings/Henri_Matisse_106.jpg',\n",
       " './paintings/Alfred_Sisley_237.jpg',\n",
       " './paintings/Kazimir_Malevich_13.jpg',\n",
       " './paintings/Rembrandt_5.jpg',\n",
       " './paintings/Jan_van_Eyck_59.jpg',\n",
       " './paintings/Alfred_Sisley_107.jpg',\n",
       " './paintings/Albrecht_DuÌ\\x88rer_41.jpg',\n",
       " './paintings/Jan_van_Eyck_15.jpg',\n",
       " './paintings/Francisco_Goya_72.jpg',\n",
       " './paintings/Edgar_Degas_279.jpg',\n",
       " './paintings/Edgar_Degas_509.jpg',\n",
       " './paintings/Albrecht_DuÌ\\x88rer_92.jpg',\n",
       " './paintings/Albrecht_DuÌ\\x88rer_301.jpg',\n",
       " './paintings/Francisco_Goya_21.jpg',\n",
       " './paintings/Mikhail_Vrubel_145.jpg',\n",
       " './paintings/Mikhail_Vrubel_77.jpg',\n",
       " './paintings/Henri_Rousseau_8.jpg',\n",
       " './paintings/Marc_Chagall_88.jpg',\n",
       " './paintings/Marc_Chagall_15.jpg',\n",
       " './paintings/Albrecht_Duâ\\x95\\xa0Ãªrer_78.jpg',\n",
       " './paintings/Albrecht_Duâ\\x95\\xa0Ãªrer_9.jpg',\n",
       " './paintings/Alfred_Sisley_194.jpg',\n",
       " './paintings/Leonardo_da_Vinci_122.jpg',\n",
       " './paintings/Albrecht_Duâ\\x95\\xa0Ãªrer_136.jpg',\n",
       " './paintings/Alfred_Sisley_121.jpg',\n",
       " './paintings/Henri_Matisse_8.jpg',\n",
       " './paintings/Marc_Chagall_167.jpg',\n",
       " './paintings/Albrecht_DuÌ\\x88rer_63.jpg',\n",
       " './paintings/Edgar_Degas_488.jpg',\n",
       " './paintings/Albrecht_DuÌ\\x88rer_295.jpg',\n",
       " './paintings/Albrecht_Duâ\\x95\\xa0Ãªrer_150.jpg',\n",
       " './paintings/Jan_van_Eyck_37.jpg',\n",
       " './paintings/Edgar_Degas_286.jpg',\n",
       " './paintings/Amedeo_Modigliani_184.jpg',\n",
       " './paintings/Alfred_Sisley_165.jpg',\n",
       " './paintings/Amedeo_Modigliani_104.jpg',\n",
       " './paintings/Leonardo_da_Vinci_21.jpg',\n",
       " './paintings/Albrecht_DuÌ\\x88rer_136.jpg',\n",
       " './paintings/Marc_Chagall_73.jpg',\n",
       " './paintings/Rembrandt_130.jpg',\n",
       " './paintings/Rembrandt_109.jpg',\n",
       " './paintings/Albrecht_DuÌ\\x88rer_237.jpg',\n",
       " './paintings/Diego_Velazquez_124.jpg',\n",
       " './paintings/Leonardo_da_Vinci_12.jpg',\n",
       " './paintings/Edvard_Munch_44.jpg',\n",
       " './paintings/Francisco_Goya_205.jpg',\n",
       " './paintings/Albrecht_DuÌ\\x88rer_85.jpg',\n",
       " './paintings/Edgar_Degas_9.jpg',\n",
       " './paintings/Albrecht_DuÌ\\x88rer_56.jpg',\n",
       " './paintings/Alfred_Sisley_172.jpg',\n",
       " './paintings/Albrecht_DuÌ\\x88rer_266.jpg',\n",
       " './paintings/Francisco_Goya_191.jpg',\n",
       " './paintings/Albrecht_DuÌ\\x88rer_78.jpg',\n",
       " './paintings/Amedeo_Modigliani_96.jpg',\n",
       " './paintings/Eugene_Delacroix_20.jpg',\n",
       " './paintings/Mikhail_Vrubel_109.jpg',\n",
       " './paintings/Rembrandt_138.jpg',\n",
       " './paintings/Albrecht_Duâ\\x95\\xa0Ãªrer_323.jpg',\n",
       " './paintings/Alfred_Sisley_208.jpg',\n",
       " './paintings/Kazimir_Malevich_4.jpg',\n",
       " './paintings/Hieronymus_Bosch_120.jpg',\n",
       " './paintings/Albrecht_DuÌ\\x88rer_172.jpg',\n",
       " './paintings/Henri_Matisse_157.jpg',\n",
       " './paintings/Rembrandt_196.jpg',\n",
       " './paintings/Albrecht_Duâ\\x95\\xa0Ãªrer_259.jpg',\n",
       " './paintings/Albrecht_DuÌ\\x88rer_200.jpg',\n",
       " './paintings/Edgar_Degas_523.jpg',\n",
       " './paintings/Marc_Chagall_20.jpg',\n",
       " './paintings/Francisco_Goya_29.jpg',\n",
       " './paintings/Edgar_Degas_24.jpg',\n",
       " './paintings/Albrecht_Duâ\\x95\\xa0Ãªrer_143.jpg',\n",
       " './paintings/Albrecht_Duâ\\x95\\xa0Ãªrer_70.jpg',\n",
       " './paintings/Rembrandt_15.jpg',\n",
       " './paintings/Albrecht_Duâ\\x95\\xa0Ãªrer_251.jpg',\n",
       " './paintings/Edgar_Degas_444.jpg',\n",
       " './paintings/Francisco_Goya_256.jpg',\n",
       " './paintings/Henri_Rousseau_58.jpg',\n",
       " './paintings/Edgar_Degas_78.jpg',\n",
       " './paintings/Albrecht_DuÌ\\x88rer_22.jpg',\n",
       " './paintings/Edgar_Degas_567.jpg',\n",
       " './paintings/Hieronymus_Bosch_113.jpg',\n",
       " './paintings/Joan_Miro_26.jpg',\n",
       " './paintings/Marc_Chagall_181.jpg',\n",
       " './paintings/Edgar_Degas_329.jpg',\n",
       " './paintings/Edouard_Manet_75.jpg',\n",
       " './paintings/Edgar_Degas_365.jpg',\n",
       " './paintings/Joan_Miro_99.jpg',\n",
       " './paintings/Marc_Chagall_239.jpg',\n",
       " './paintings/Rembrandt_253.jpg',\n",
       " './paintings/Jackson_Pollock_15.jpg',\n",
       " './paintings/Francisco_Goya_36.jpg',\n",
       " './paintings/Edgar_Degas_134.jpg',\n",
       " './paintings/Amedeo_Modigliani_177.jpg',\n",
       " './paintings/Francisco_Goya_212.jpg',\n",
       " './paintings/Henri_Rousseau_14.jpg',\n",
       " './paintings/Edgar_Degas_473.jpg',\n",
       " './paintings/Albrecht_Duâ\\x95\\xa0Ãªrer_222.jpg',\n",
       " './paintings/Henri_Rousseau_29.jpg',\n",
       " './paintings/Edgar_Degas_321.jpg',\n",
       " './paintings/Diego_Rivera_69.jpg',\n",
       " './paintings/Rembrandt_81.jpg',\n",
       " './paintings/Edgar_Degas_596.jpg',\n",
       " './paintings/Rembrandt_45.jpg',\n",
       " './paintings/Edgar_Degas_307.jpg',\n",
       " './paintings/Henri_Matisse_142.jpg',\n",
       " './paintings/Edgar_Degas_156.jpg',\n",
       " './paintings/Henri_Matisse_186.jpg',\n",
       " './paintings/Joan_Miro_11.jpg',\n",
       " './paintings/Edgar_Degas_631.jpg',\n",
       " './paintings/Marc_Chagall_2.jpg',\n",
       " './paintings/Edgar_Degas_639.jpg',\n",
       " './paintings/Joan_Miro_91.jpg',\n",
       " './paintings/Francisco_Goya_87.jpg',\n",
       " './paintings/Rembrandt_224.jpg',\n",
       " './paintings/Mikhail_Vrubel_19.jpg',\n",
       " './paintings/Edouard_Manet_53.jpg',\n",
       " './paintings/Michelangelo_34.jpg',\n",
       " './paintings/Henri_Matisse_24.jpg',\n",
       " './paintings/Edgar_Degas_271.jpg',\n",
       " './paintings/Edgar_Degas_170.jpg',\n",
       " './paintings/Francisco_Goya_234.jpg',\n",
       " './paintings/Diego_Velazquez_102.jpg',\n",
       " './paintings/Albrecht_DuÌ\\x88rer_165.jpg',\n",
       " './paintings/Rembrandt_231.jpg',\n",
       " './paintings/Joan_Miro_48.jpg',\n",
       " './paintings/Leonardo_da_Vinci_94.jpg',\n",
       " './paintings/Alfred_Sisley_222.jpg',\n",
       " './paintings/Albrecht_DuÌ\\x88rer_121.jpg',\n",
       " './paintings/Henri_Rousseau_36.jpg',\n",
       " './paintings/Albrecht_Duâ\\x95\\xa0Ãªrer_295.jpg',\n",
       " './paintings/Edgar_Degas_653.jpg',\n",
       " './paintings/Francisco_Goya_50.jpg',\n",
       " './paintings/Francisco_Goya_65.jpg',\n",
       " './paintings/Henri_Matisse_46.jpg',\n",
       " './paintings/Alfred_Sisley_114.jpg',\n",
       " './paintings/Hieronymus_Bosch_69.jpg',\n",
       " './paintings/Joan_Miro_33.jpg',\n",
       " './paintings/Alfred_Sisley_22.jpg',\n",
       " './paintings/Marc_Chagall_174.jpg',\n",
       " './paintings/Hieronymus_Bosch_61.jpg',\n",
       " './paintings/Francisco_Goya_140.jpg',\n",
       " './paintings/Rembrandt_38.jpg',\n",
       " './paintings/Albrecht_Duâ\\x95\\xa0Ãªrer_288.jpg',\n",
       " './paintings/Hieronymus_Bosch_135.jpg',\n",
       " './paintings/Albrecht_DuÌ\\x88rer_143.jpg',\n",
       " './paintings/Edouard_Manet_60.jpg',\n",
       " './paintings/Francisco_Goya_184.jpg',\n",
       " './paintings/Edgar_Degas_624.jpg',\n",
       " './paintings/Albrecht_Duâ\\x95\\xa0Ãªrer_208.jpg',\n",
       " './paintings/Joan_Miro_62.jpg',\n",
       " './paintings/Henri_Matisse_171.jpg',\n",
       " './paintings/Edgar_Degas_501.jpg',\n",
       " './paintings/Albrecht_Duâ\\x95\\xa0Ãªrer_41.jpg',\n",
       " './paintings/Edgar_Degas_314.jpg',\n",
       " './paintings/Edgar_Degas_350.jpg',\n",
       " './paintings/Diego_Rivera_61.jpg',\n",
       " './paintings/Leonardo_da_Vinci_14.jpg',\n",
       " './paintings/Albrecht_Duâ\\x95\\xa0Ãªrer_158.jpg',\n",
       " './paintings/Amedeo_Modigliani_140.jpg',\n",
       " './paintings/Edgar_Degas_602.jpg',\n",
       " './paintings/Albrecht_DuÌ\\x88rer_273.jpg',\n",
       " './paintings/Henri_Matisse_164.jpg',\n",
       " './paintings/Edgar_Degas_105.jpg',\n",
       " './paintings/Diego_Rivera_47.jpg',\n",
       " './paintings/Edvard_Munch_22.jpg',\n",
       " './paintings/Edgar_Degas_660.jpg',\n",
       " './paintings/Albrecht_DuÌ\\x88rer_323.jpg',\n",
       " './paintings/Alfred_Sisley_136.jpg',\n",
       " './paintings/Rembrandt_30.jpg',\n",
       " './paintings/Marc_Chagall_231.jpg',\n",
       " './paintings/Rembrandt_74.jpg',\n",
       " './paintings/Rembrandt_174.jpg',\n",
       " './paintings/Alfred_Sisley_97.jpg',\n",
       " './paintings/Edgar_Degas_257.jpg',\n",
       " './paintings/Michelangelo_41.jpg',\n",
       " './paintings/Edouard_Manet_82.jpg',\n",
       " './paintings/Alfred_Sisley_158.jpg',\n",
       " './paintings/Henri_Matisse_53.jpg',\n",
       " './paintings/Edgar_Degas_400.jpg',\n",
       " './paintings/Kazimir_Malevich_20.jpg',\n",
       " './paintings/Albrecht_DuÌ\\x88rer_107.jpg',\n",
       " './paintings/Edgar_Degas_466.jpg',\n",
       " './paintings/Francisco_Goya_278.jpg',\n",
       " './paintings/Amedeo_Modigliani_119.jpg',\n",
       " './paintings/Alfred_Sisley_82.jpg',\n",
       " './paintings/Francisco_Goya_104.jpg',\n",
       " './paintings/Edgar_Degas_480.jpg',\n",
       " './paintings/Diego_Velazquez_117.jpg',\n",
       " './paintings/Hieronymus_Bosch_3.jpg',\n",
       " './paintings/Marc_Chagall_101.jpg',\n",
       " './paintings/Amedeo_Modigliani_81.jpg',\n",
       " './paintings/Francisco_Goya_111.jpg',\n",
       " './paintings/Edgar_Degas_358.jpg',\n",
       " './paintings/Francisco_Goya_285.jpg',\n",
       " './paintings/Henri_Matisse_39.jpg',\n",
       " './paintings/Mikhail_Vrubel_152.jpg',\n",
       " './paintings/Edouard_Manet_8.jpg',\n",
       " './paintings/Mikhail_Vrubel_116.jpg',\n",
       " './paintings/Diego_Rivera_18.jpg',\n",
       " './paintings/Rembrandt_101.jpg',\n",
       " './paintings/Amedeo_Modigliani_67.jpg',\n",
       " './paintings/Amedeo_Modigliani_162.jpg',\n",
       " './paintings/Edvard_Munch_66.jpg',\n",
       " './paintings/Alfred_Sisley_129.jpg',\n",
       " './paintings/Edgar_Degas_343.jpg',\n",
       " './paintings/Amedeo_Modigliani_38.jpg',\n",
       " './paintings/Leonardo_da_Vinci_50.jpg',\n",
       " './paintings/Albrecht_Duâ\\x95\\xa0Ãªrer_121.jpg',\n",
       " './paintings/Francisco_Goya_148.jpg',\n",
       " './paintings/Edgar_Degas_697.jpg',\n",
       " './paintings/Francisco_Goya_58.jpg',\n",
       " './paintings/Edgar_Degas_37.jpg',\n",
       " './paintings/Henri_Matisse_31.jpg',\n",
       " './paintings/Edgar_Degas_516.jpg',\n",
       " './paintings/Edgar_Degas_92.jpg',\n",
       " './paintings/Amedeo_Modigliani_155.jpg',\n",
       " './paintings/Amedeo_Modigliani_30.jpg',\n",
       " './paintings/Alfred_Sisley_244.jpg',\n",
       " './paintings/Kazimir_Malevich_42.jpg',\n",
       " './paintings/Leonardo_da_Vinci_43.jpg',\n",
       " './paintings/Leonardo_da_Vinci_87.jpg',\n",
       " './paintings/Albrecht_DuÌ\\x88rer_9.jpg',\n",
       " './paintings/Alfred_Sisley_53.jpg',\n",
       " './paintings/Rembrandt_167.jpg',\n",
       " './paintings/Marc_Chagall_196.jpg',\n",
       " './paintings/Leonardo_da_Vinci_108.jpg',\n",
       " './paintings/Francisco_Goya_241.jpg',\n",
       " './paintings/Hieronymus_Bosch_128.jpg',\n",
       " './paintings/Edgar_Degas_264.jpg',\n",
       " './paintings/Edgar_Degas_141.jpg',\n",
       " './paintings/Michelangelo_1.jpg',\n",
       " './paintings/Kazimir_Malevich_106.jpg',\n",
       " './paintings/Edgar_Degas_387.jpg',\n",
       " './paintings/Rembrandt_123.jpg',\n",
       " './paintings/Alfred_Sisley_39.jpg',\n",
       " './paintings/Marc_Chagall_59.jpg',\n",
       " './paintings/Joan_Miro_19.jpg',\n",
       " './paintings/Leonardo_da_Vinci_7.jpg',\n",
       " './paintings/Edgar_Degas_675.jpg',\n",
       " './paintings/Mikhail_Vrubel_130.jpg',\n",
       " './paintings/Marc_Chagall_152.jpg',\n",
       " './paintings/Francisco_Goya_119.jpg',\n",
       " './paintings/Amedeo_Modigliani_23.jpg',\n",
       " './paintings/Francisco_Goya_199.jpg',\n",
       " './paintings/Jan_van_Eyck_2.jpg',\n",
       " './paintings/Kazimir_Malevich_28.jpg',\n",
       " './paintings/Edgar_Degas_242.jpg',\n",
       " './paintings/Henri_Matisse_97.jpg',\n",
       " './paintings/Marc_Chagall_51.jpg',\n",
       " './paintings/Albrecht_DuÌ\\x88rer_194.jpg',\n",
       " './paintings/Edgar_Degas_437.jpg',\n",
       " './paintings/Jackson_Pollock_22.jpg',\n",
       " './paintings/Mikhail_Vrubel_15.jpg',\n",
       " './paintings/Francisco_Goya_7.jpg',\n",
       " './paintings/Marc_Chagall_217.jpg',\n",
       " './paintings/Edouard_Manet_31.jpg',\n",
       " './paintings/Marc_Chagall_37.jpg',\n",
       " './paintings/Alfred_Sisley_75.jpg',\n",
       " './paintings/Alfred_Sisley_17.jpg',\n",
       " './paintings/Diego_Rivera_25.jpg',\n",
       " './paintings/Rembrandt_189.jpg',\n",
       " './paintings/Marc_Chagall_44.jpg',\n",
       " './paintings/Mikhail_Vrubel_40.jpg',\n",
       " './paintings/Edgar_Degas_617.jpg',\n",
       " './paintings/Alfred_Sisley_150.jpg',\n",
       " './paintings/Edgar_Degas_538.jpg',\n",
       " './paintings/Albrecht_DuÌ\\x88rer_251.jpg',\n",
       " './paintings/Leonardo_da_Vinci_100.jpg',\n",
       " './paintings/Mikhail_Vrubel_84.jpg',\n",
       " './paintings/Alfred_Sisley_31.jpg',\n",
       " './paintings/Marc_Chagall_95.jpg',\n",
       " './paintings/Edgar_Degas_581.jpg',\n",
       " './paintings/Edgar_Degas_451.jpg',\n",
       " './paintings/Edgar_Degas_293.jpg',\n",
       " './paintings/Hieronymus_Bosch_90.jpg',\n",
       " './paintings/Albrecht_Duâ\\x95\\xa0Ãªrer_244.jpg',\n",
       " './paintings/Edgar_Degas_668.jpg',\n",
       " './paintings/Francisco_Goya_263.jpg',\n",
       " './paintings/Marc_Chagall_66.jpg',\n",
       " './paintings/Amedeo_Modigliani_74.jpg',\n",
       " './paintings/Edvard_Munch_37.jpg',\n",
       " './paintings/Albrecht_DuÌ\\x88rer_187.jpg',\n",
       " './paintings/Alfred_Sisley_200.jpg',\n",
       " './paintings/Alfred_Sisley_187.jpg',\n",
       " './paintings/Albrecht_DuÌ\\x88rer_215.jpg',\n",
       " './paintings/Marc_Chagall_109.jpg',\n",
       " './paintings/Alfred_Sisley_251.jpg',\n",
       " './paintings/Diego_Rivera_54.jpg',\n",
       " './paintings/Edgar_Degas_220.jpg',\n",
       " './paintings/Henri_Matisse_113.jpg',\n",
       " './paintings/Amedeo_Modigliani_45.jpg',\n",
       " './paintings/Rembrandt_116.jpg',\n",
       " './paintings/Edgar_Degas_530.jpg',\n",
       " './paintings/Albrecht_DuÌ\\x88rer_17.jpg',\n",
       " './paintings/Albrecht_DuÌ\\x88rer_150.jpg',\n",
       " './paintings/Mikhail_Vrubel_26.jpg',\n",
       " './paintings/Rembrandt_89.jpg',\n",
       " './paintings/Alfred_Sisley_8.jpg',\n",
       " './paintings/Hieronymus_Bosch_98.jpg',\n",
       " './paintings/Joan_Miro_77.jpg',\n",
       " './paintings/Henri_Matisse_120.jpg',\n",
       " './paintings/Marc_Chagall_224.jpg',\n",
       " './paintings/Mikhail_Vrubel_123.jpg',\n",
       " './paintings/Michelangelo_12.jpg',\n",
       " './paintings/Edouard_Manet_24.jpg',\n",
       " './paintings/Albrecht_Duâ\\x95\\xa0Ãªrer_85.jpg',\n",
       " './paintings/Joan_Miro_55.jpg',\n",
       " './paintings/Amedeo_Modigliani_89.jpg',\n",
       " './paintings/Albrecht_DuÌ\\x88rer_49.jpg',\n",
       " './paintings/Edvard_Munch_59.jpg',\n",
       " './paintings/Albrecht_Duâ\\x95\\xa0Ãªrer_194.jpg',\n",
       " './paintings/Henri_Matisse_179.jpg',\n",
       " './paintings/Kazimir_Malevich_86.jpg',\n",
       " './paintings/Edgar_Degas_68.jpg',\n",
       " './paintings/Albrecht_Duâ\\x95\\xa0Ãªrer_129.jpg',\n",
       " './paintings/Marc_Chagall_145.jpg',\n",
       " './paintings/Marc_Chagall_123.jpg',\n",
       " './paintings/Edgar_Degas_112.jpg',\n",
       " './paintings/Rembrandt_20.jpg',\n",
       " './paintings/Francisco_Goya_270.jpg',\n",
       " './paintings/Hieronymus_Bosch_83.jpg',\n",
       " './paintings/Albrecht_Duâ\\x95\\xa0Ãªrer_92.jpg',\n",
       " './paintings/Eugene_Delacroix_13.jpg',\n",
       " './paintings/Albrecht_Duâ\\x95\\xa0Ãªrer_237.jpg',\n",
       " './paintings/Albrecht_DuÌ\\x88rer_244.jpg',\n",
       " './paintings/Rembrandt_217.jpg',\n",
       " './paintings/Mikhail_Vrubel_91.jpg',\n",
       " './paintings/Albrecht_Duâ\\x95\\xa0Ãªrer_316.jpg',\n",
       " './paintings/Henri_Rousseau_21.jpg',\n",
       " './paintings/Albrecht_Duâ\\x95\\xa0Ãªrer_34.jpg',\n",
       " './paintings/Henri_Matisse_128.jpg',\n",
       " './paintings/Albrecht_Duâ\\x95\\xa0Ãªrer_266.jpg',\n",
       " './paintings/Amedeo_Modigliani_52.jpg',\n",
       " './paintings/Edgar_Degas_235.jpg',\n",
       " './paintings/Alfred_Sisley_46.jpg',\n",
       " './paintings/Albrecht_Duâ\\x95\\xa0Ãªrer_280.jpg',\n",
       " './paintings/Kazimir_Malevich_113.jpg',\n",
       " './paintings/Edgar_Degas_682.jpg',\n",
       " './paintings/Albrecht_Duâ\\x95\\xa0Ãªrer_187.jpg',\n",
       " './paintings/Amedeo_Modigliani_191.jpg',\n",
       " './paintings/Kazimir_Malevich_120.jpg',\n",
       " './paintings/Edgar_Degas_55.jpg',\n",
       " './paintings/Jan_van_Eyck_73.jpg',\n",
       " './paintings/Edgar_Degas_589.jpg',\n",
       " './paintings/Francisco_Goya_249.jpg',\n",
       " './paintings/Alfred_Sisley_68.jpg',\n",
       " './paintings/Leonardo_da_Vinci_29.jpg',\n",
       " './paintings/Mikhail_Vrubel_62.jpg',\n",
       " './paintings/Amedeo_Modigliani_126.jpg',\n",
       " './paintings/Francisco_Goya_43.jpg',\n",
       " './paintings/Hieronymus_Bosch_54.jpg',\n",
       " './paintings/Henri_Rousseau_43.jpg',\n",
       " './paintings/Rembrandt_96.jpg',\n",
       " './paintings/Alfred_Sisley_215.jpg',\n",
       " './paintings/Henri_Rousseau_50.jpg',\n",
       " './paintings/Amedeo_Modigliani_16.jpg',\n",
       " './paintings/Edgar_Degas_127.jpg',\n",
       " './paintings/Edgar_Degas_19.jpg',\n",
       " './paintings/Edgar_Degas_545.jpg',\n",
       " './paintings/Kazimir_Malevich_64.jpg',\n",
       " './paintings/Edgar_Degas_552.jpg',\n",
       " './paintings/Hieronymus_Bosch_76.jpg',\n",
       " './paintings/Joan_Miro_40.jpg',\n",
       " './paintings/Albrecht_Duâ\\x95\\xa0Ãªrer_172.jpg',\n",
       " './paintings/Henri_Matisse_14.jpg',\n",
       " './paintings/Albrecht_Duâ\\x95\\xa0Ãªrer_301.jpg',\n",
       " './paintings/Kazimir_Malevich_71.jpg',\n",
       " './paintings/Hieronymus_Bosch_18.jpg',\n",
       " './paintings/Edvard_Munch_2.jpg']"
      ]
     },
     "execution_count": 3,
     "metadata": {},
     "output_type": "execute_result"
    }
   ],
   "source": [
    "import glob\n",
    "dataset_paths = glob.glob(\"./paintings/*.jpg\")\n",
    "dataset_paths"
   ]
  },
  {
   "cell_type": "markdown",
   "id": "58f83608",
   "metadata": {},
   "source": [
    "📝 Display the 16th image of the **dataset_paths**\n",
    "\n",
    "☑️    Use the `PIL.Image.open</code>` and `matplotlib.pyplot.imshow` functions."
   ]
  },
  {
   "cell_type": "code",
   "execution_count": 4,
   "id": "64e649f5",
   "metadata": {
    "ExecuteTime": {
     "end_time": "2022-07-13T07:29:24.751622Z",
     "start_time": "2022-07-13T07:29:24.379618Z"
    },
    "scrolled": false,
    "tags": [
     "challengify"
    ]
   },
   "outputs": [
    {
     "data": {
      "text/plain": [
       "<matplotlib.image.AxesImage at 0x7f179ff5d2e0>"
      ]
     },
     "execution_count": 4,
     "metadata": {},
     "output_type": "execute_result"
    },
    {
     "data": {
      "image/png": "[encoded data removed]",
      "text/plain": [
       "<Figure size 432x288 with 1 Axes>"
      ]
     },
     "metadata": {
      "needs_background": "light"
     },
     "output_type": "display_data"
    }
   ],
   "source": [
    "from PIL import Image\n",
    "\n",
    "img16 = Image.open(dataset_paths[16], mode=\"r\")\n",
    "plt.imshow(img16)"
   ]
  },
  {
   "cell_type": "markdown",
   "id": "0cbb5bbd",
   "metadata": {},
   "source": [
    "Look at the image you just displayed:  \n",
    "📝 Store its shape in `img_shape`  \n",
    "📝 Store its number of dimensions in `img_dim`"
   ]
  },
  {
   "cell_type": "code",
   "execution_count": 18,
   "id": "9f5fed60",
   "metadata": {
    "ExecuteTime": {
     "end_time": "2022-07-13T07:41:22.187404Z",
     "start_time": "2022-07-13T07:41:22.183313Z"
    },
    "tags": [
     "challengify"
    ]
   },
   "outputs": [
    {
     "data": {
      "text/plain": [
       "(633, 473)"
      ]
     },
     "execution_count": 18,
     "metadata": {},
     "output_type": "execute_result"
    }
   ],
   "source": [
    "img_shape = img16.size\n",
    "img_shape"
   ]
  },
  {
   "cell_type": "code",
   "execution_count": 14,
   "id": "8a1e2084",
   "metadata": {
    "ExecuteTime": {
     "end_time": "2022-07-13T07:39:10.182871Z",
     "start_time": "2022-07-13T07:39:10.176810Z"
    }
   },
   "outputs": [
    {
     "data": {
      "text/plain": [
       "'RGB'"
      ]
     },
     "execution_count": 14,
     "metadata": {},
     "output_type": "execute_result"
    }
   ],
   "source": [
    "img16.mode"
   ]
  },
  {
   "cell_type": "code",
   "execution_count": 15,
   "id": "b65c5bfd",
   "metadata": {
    "ExecuteTime": {
     "end_time": "2022-07-13T07:40:34.891946Z",
     "start_time": "2022-07-13T07:40:34.889099Z"
    }
   },
   "outputs": [],
   "source": [
    "img_dim = 3"
   ]
  },
  {
   "cell_type": "markdown",
   "id": "2cfa2f8f",
   "metadata": {},
   "source": [
    "📝 Uncomment the true statements about the image you just displayed"
   ]
  },
  {
   "cell_type": "code",
   "execution_count": 16,
   "id": "a3c7d612",
   "metadata": {
    "ExecuteTime": {
     "end_time": "2022-07-13T07:40:51.225260Z",
     "start_time": "2022-07-13T07:40:51.221684Z"
    }
   },
   "outputs": [],
   "source": [
    "#is_portrait = True\n",
    "is_portrait = False\n",
    "\n",
    "is_colored_image = True\n",
    "#is_colored_image = False"
   ]
  },
  {
   "cell_type": "markdown",
   "id": "02e3a064",
   "metadata": {
    "ExecuteTime": {
     "end_time": "2021-10-31T15:21:44.178889Z",
     "start_time": "2021-10-31T15:21:44.173713Z"
    }
   },
   "source": [
    "💾 **Run the cell below to submit your results**"
   ]
  },
  {
   "cell_type": "code",
   "execution_count": 19,
   "id": "99c7af3b",
   "metadata": {
    "ExecuteTime": {
     "end_time": "2022-07-13T07:41:29.134398Z",
     "start_time": "2022-07-13T07:41:29.129687Z"
    }
   },
   "outputs": [],
   "source": [
    "from nbresult import ChallengeResult\n",
    "result = ChallengeResult(\n",
    "    'image_data_loading',\n",
    "    img_shape=img_shape,\n",
    "    img_dim=img_dim,\n",
    "    is_portrait=is_portrait,\n",
    "    is_colored_image=is_colored_image\n",
    ")\n",
    "\n",
    "result.write()"
   ]
  },
  {
   "cell_type": "markdown",
   "id": "ba03c718",
   "metadata": {},
   "source": [
    "## 2. Processing (50min)"
   ]
  },
  {
   "cell_type": "markdown",
   "id": "08448f33",
   "metadata": {},
   "source": [
    "*C14 Convertir les données entrantes (images et texte par exemple) en données adaptées pour un réseau de neurones (100%)*"
   ]
  },
  {
   "cell_type": "markdown",
   "id": "66adbb66",
   "metadata": {},
   "source": [
    "📝 Store all images from the dataset folder in a `list` of `ndarray` called **dataset_images**\n",
    "\n",
    "💡 It can take a while"
   ]
  },
  {
   "cell_type": "code",
   "execution_count": 42,
   "id": "9bde7713",
   "metadata": {
    "ExecuteTime": {
     "end_time": "2022-07-13T07:55:50.211445Z",
     "start_time": "2022-07-13T07:55:48.953682Z"
    },
    "tags": [
     "challengify"
    ]
   },
   "outputs": [],
   "source": [
    "dataset_images = []\n",
    "\n",
    "for image in dataset_paths:\n",
    "    dataset_images.append(np.array(Image.open(image, mode=\"r\")))"
   ]
  },
  {
   "cell_type": "code",
   "execution_count": 25,
   "id": "3556c59f",
   "metadata": {
    "ExecuteTime": {
     "end_time": "2022-07-13T07:45:21.925265Z",
     "start_time": "2022-07-13T07:45:21.920591Z"
    }
   },
   "outputs": [
    {
     "data": {
      "text/plain": [
       "498"
      ]
     },
     "execution_count": 25,
     "metadata": {},
     "output_type": "execute_result"
    }
   ],
   "source": [
    "len(dataset_images)"
   ]
  },
  {
   "cell_type": "markdown",
   "id": "b57a2716",
   "metadata": {},
   "source": [
    "### 2.1 Reshape, Resize, Rescale\n",
    "\n",
    "Simplify your dataset and convert it to a single `ndarray`"
   ]
  },
  {
   "cell_type": "markdown",
   "id": "db3c1af3",
   "metadata": {},
   "source": [
    "💡 Recall that your dataset contains colored and black & white images\n",
    "\n",
    "📝 Assign to a `list` **image_dimensions** the two possible number of dimensions for your images "
   ]
  },
  {
   "cell_type": "code",
   "execution_count": 43,
   "id": "c3d48770",
   "metadata": {
    "ExecuteTime": {
     "end_time": "2022-07-13T07:55:56.235138Z",
     "start_time": "2022-07-13T07:55:56.229377Z"
    }
   },
   "outputs": [
    {
     "data": {
      "text/plain": [
       "{2, 3}"
      ]
     },
     "execution_count": 43,
     "metadata": {},
     "output_type": "execute_result"
    }
   ],
   "source": [
    "img_dims = set()\n",
    "for image in dataset_images:\n",
    "    img_dims.add(len(image.shape))\n",
    "img_dims"
   ]
  },
  {
   "cell_type": "code",
   "execution_count": 36,
   "id": "d7087ea8",
   "metadata": {
    "ExecuteTime": {
     "end_time": "2022-07-13T07:49:40.180509Z",
     "start_time": "2022-07-13T07:49:40.177724Z"
    },
    "tags": [
     "challengify"
    ]
   },
   "outputs": [],
   "source": [
    "image_dimensions = [2, 3]"
   ]
  },
  {
   "cell_type": "markdown",
   "id": "d8c2b5fc",
   "metadata": {},
   "source": [
    "📝 Run the cell below to convert all black & white images into colored ones by duplicating the image on three channels  \n",
    "💡 This is for convenience, so as to have only 3D arrays"
   ]
  },
  {
   "cell_type": "code",
   "execution_count": 44,
   "id": "94f9fc55",
   "metadata": {
    "ExecuteTime": {
     "end_time": "2022-07-13T07:56:06.449992Z",
     "start_time": "2022-07-13T07:56:06.018009Z"
    },
    "scrolled": false
   },
   "outputs": [
    {
     "data": {
      "text/plain": [
       "{3}"
      ]
     },
     "execution_count": 44,
     "metadata": {},
     "output_type": "execute_result"
    }
   ],
   "source": [
    "dataset_images = [x if x.ndim==3 else np.repeat(x[:,:,None], 3, axis=2) for x in dataset_images]\n",
    "set([x.ndim for x in dataset_images])"
   ]
  },
  {
   "cell_type": "markdown",
   "id": "84865561",
   "metadata": {},
   "source": [
    "📝 Resize your images to make sure they have the same shape  \n",
    "\n",
    "☑️ Use the method `tensorflow.image.resize`  \n",
    "☑️ The target size is (height=120 pixels, width=100 pixels)  "
   ]
  },
  {
   "cell_type": "code",
   "execution_count": 45,
   "id": "dfaf2be6",
   "metadata": {
    "ExecuteTime": {
     "end_time": "2022-07-13T07:56:27.975246Z",
     "start_time": "2022-07-13T07:56:27.970839Z"
    }
   },
   "outputs": [
    {
     "data": {
      "text/plain": [
       "(970, 720, 3)"
      ]
     },
     "execution_count": 45,
     "metadata": {},
     "output_type": "execute_result"
    }
   ],
   "source": [
    "dataset_images[0].shape"
   ]
  },
  {
   "cell_type": "code",
   "execution_count": 51,
   "id": "50fbc6ae",
   "metadata": {
    "ExecuteTime": {
     "end_time": "2022-07-13T07:58:14.652583Z",
     "start_time": "2022-07-13T07:58:14.454471Z"
    },
    "tags": [
     "challengify"
    ]
   },
   "outputs": [],
   "source": [
    "from tensorflow.image import resize\n",
    "\n",
    "images_resized = []\n",
    "for image in dataset_images:\n",
    "    image = resize(image, (120, 100))\n",
    "    images_resized.append(image)"
   ]
  },
  {
   "cell_type": "markdown",
   "id": "3ff2e87b",
   "metadata": {},
   "source": [
    "📝 Now that all images have the same shape, store them as a `ndarray` in **dataset_resized**  \n",
    "☑️ Make sure that the size of **dataset_resized** is $(n_{images},\\:height,\\:width,\\:channels)$"
   ]
  },
  {
   "cell_type": "code",
   "execution_count": 56,
   "id": "39739658",
   "metadata": {
    "ExecuteTime": {
     "end_time": "2022-07-13T08:00:34.142167Z",
     "start_time": "2022-07-13T08:00:34.128545Z"
    },
    "tags": [
     "challengify"
    ]
   },
   "outputs": [
    {
     "data": {
      "text/plain": [
       "(498, 120, 100, 3)"
      ]
     },
     "execution_count": 56,
     "metadata": {},
     "output_type": "execute_result"
    }
   ],
   "source": [
    "dataset_resized = np.array(images_resized)\n",
    "dataset_resized.shape"
   ]
  },
  {
   "cell_type": "markdown",
   "id": "0701f787",
   "metadata": {},
   "source": [
    "📝 Store in **dataset_scaled** your scaled images  \n",
    "☑️ All scaled values should be between $0$ and $1$"
   ]
  },
  {
   "cell_type": "code",
   "execution_count": 58,
   "id": "57c85bf4",
   "metadata": {
    "ExecuteTime": {
     "end_time": "2022-07-13T08:01:58.042381Z",
     "start_time": "2022-07-13T08:01:58.030268Z"
    }
   },
   "outputs": [],
   "source": [
    "dataset_scaled = dataset_resized/255"
   ]
  },
  {
   "cell_type": "code",
   "execution_count": 59,
   "id": "d11c7002",
   "metadata": {
    "ExecuteTime": {
     "end_time": "2022-07-13T08:02:05.776243Z",
     "start_time": "2022-07-13T08:02:05.768924Z"
    },
    "collapsed": true,
    "tags": [
     "challengify"
    ]
   },
   "outputs": [
    {
     "data": {
      "text/plain": [
       "array([[[0.35460785, 0.31549022, 0.29073527],\n",
       "        [0.3327778 , 0.31382352, 0.28565356],\n",
       "        [0.349183  , 0.32205883, 0.29583332],\n",
       "        ...,\n",
       "        [0.30882353, 0.26854575, 0.2607026 ],\n",
       "        [0.3371248 , 0.30183068, 0.28222284],\n",
       "        [0.31177747, 0.29565054, 0.2839185 ]],\n",
       "\n",
       "       [[0.3992157 , 0.36392158, 0.34431374],\n",
       "        [0.34514704, 0.30867648, 0.27338237],\n",
       "        [0.35049018, 0.3112745 , 0.27598038],\n",
       "        ...,\n",
       "        [0.29460785, 0.2514706 , 0.2372549 ],\n",
       "        [0.27407047, 0.2583842 , 0.2466195 ],\n",
       "        [0.31240004, 0.2810275 , 0.2692628 ]],\n",
       "\n",
       "       [[0.37374184, 0.33844772, 0.31883988],\n",
       "        [0.34890527, 0.27870917, 0.2686111 ],\n",
       "        [0.33243462, 0.2971405 , 0.26968953],\n",
       "        ...,\n",
       "        [0.3066994 , 0.2571079 , 0.24052292],\n",
       "        [0.2968138 , 0.25367653, 0.24348007],\n",
       "        [0.33494982, 0.32262933, 0.30329937]],\n",
       "\n",
       "       ...,\n",
       "\n",
       "       [[0.23145445, 0.21576817, 0.20400347],\n",
       "        [0.21272905, 0.19312121, 0.17743494],\n",
       "        [0.18692937, 0.17516467, 0.15555683],\n",
       "        ...,\n",
       "        [0.14951028, 0.14558871, 0.13774557],\n",
       "        [0.16116048, 0.15723892, 0.14939578],\n",
       "        [0.16511422, 0.16511422, 0.15727109]],\n",
       "\n",
       "       [[0.22401965, 0.20833337, 0.19656867],\n",
       "        [0.21352988, 0.20176518, 0.18215732],\n",
       "        [0.17990267, 0.1642164 , 0.14264777],\n",
       "        ...,\n",
       "        [0.14754926, 0.14362769, 0.13578455],\n",
       "        [0.17784682, 0.17784682, 0.17000368],\n",
       "        [0.18176459, 0.18176459, 0.17392145]],\n",
       "\n",
       "       [[0.24035928, 0.224673  , 0.2129083 ],\n",
       "        [0.22246729, 0.20678101, 0.19861093],\n",
       "        [0.23545665, 0.21977036, 0.21584879],\n",
       "        ...,\n",
       "        [0.1806369 , 0.1806369 , 0.16298984],\n",
       "        [0.16666721, 0.16274564, 0.14705937],\n",
       "        [0.1866996 , 0.1866996 , 0.17885646]]], dtype=float32)"
      ]
     },
     "execution_count": 59,
     "metadata": {},
     "output_type": "execute_result"
    }
   ],
   "source": [
    "dataset_scaled[0]"
   ]
  },
  {
   "cell_type": "markdown",
   "id": "ccdeeb0f",
   "metadata": {},
   "source": [
    "### 2.2 Create (X, y) sets"
   ]
  },
  {
   "cell_type": "markdown",
   "id": "39fe8c8f",
   "metadata": {},
   "source": [
    "📝 Run the cell below to add random noise to your images"
   ]
  },
  {
   "cell_type": "code",
   "execution_count": 60,
   "id": "1fd79f84",
   "metadata": {
    "ExecuteTime": {
     "end_time": "2022-07-13T08:02:32.586199Z",
     "start_time": "2022-07-13T08:02:32.133013Z"
    }
   },
   "outputs": [
    {
     "data": {
      "text/plain": [
       "(498, 120, 100, 3)"
      ]
     },
     "execution_count": 60,
     "metadata": {},
     "output_type": "execute_result"
    }
   ],
   "source": [
    "NOISE_LEVEL = 0.2\n",
    "\n",
    "dataset_noisy = np.clip(\n",
    "    dataset_scaled + np.random.normal(\n",
    "        loc=0,\n",
    "        scale=NOISE_LEVEL,\n",
    "        size=dataset_scaled.shape\n",
    "    ).astype(np.float32),\n",
    "    0,\n",
    "    1\n",
    ")\n",
    "dataset_noisy.shape"
   ]
  },
  {
   "cell_type": "markdown",
   "id": "7a31c361",
   "metadata": {},
   "source": [
    "📝 Plot a noisy image alongside the normal one to visualize the impact of the random noise you just added"
   ]
  },
  {
   "cell_type": "code",
   "execution_count": 64,
   "id": "a01e70bf",
   "metadata": {
    "ExecuteTime": {
     "end_time": "2022-07-13T08:04:16.630372Z",
     "start_time": "2022-07-13T08:04:16.347120Z"
    },
    "tags": [
     "challengify"
    ]
   },
   "outputs": [
    {
     "data": {
      "image/png": "[encoded data removed]",
      "text/plain": [
       "<Figure size 432x288 with 2 Axes>"
      ]
     },
     "metadata": {
      "needs_background": "light"
     },
     "output_type": "display_data"
    }
   ],
   "source": [
    "plt.subplot(1,2,1)\n",
    "plt.imshow(dataset_scaled[0])\n",
    "plt.subplot(1,2,2)\n",
    "plt.imshow(dataset_noisy[0]);"
   ]
  },
  {
   "cell_type": "markdown",
   "id": "3d72d4f7",
   "metadata": {},
   "source": [
    "📝 **Create your `(X_train, Y_train)`, `(X_test, Y_test)` train and test sets**  \n",
    "☑️ Use `sklearn`'s `train_test_split` method  \n",
    "☑️ Your test set should consist of 20% of your total observations, randomly sampled  \n",
    "💡 Recall your objective: *For a given noisy image $X$, your model should learn to predict the denoised image $y$* to choose $X$ and $y$."
   ]
  },
  {
   "cell_type": "code",
   "execution_count": 69,
   "id": "76718804",
   "metadata": {
    "ExecuteTime": {
     "end_time": "2022-07-13T08:08:10.248026Z",
     "start_time": "2022-07-13T08:08:10.214987Z"
    },
    "tags": [
     "challengify"
    ]
   },
   "outputs": [
    {
     "name": "stdout",
     "output_type": "stream",
     "text": [
      "(398, 120, 100, 3)\n",
      "(398, 120, 100, 3)\n"
     ]
    }
   ],
   "source": [
    "X_train, X_test, Y_train, Y_test = train_test_split(dataset_noisy, dataset_scaled, test_size=0.2)\n",
    "print(X_train.shape)\n",
    "print(Y_train.shape)"
   ]
  },
  {
   "cell_type": "markdown",
   "id": "91d5d32a",
   "metadata": {
    "ExecuteTime": {
     "end_time": "2021-10-31T15:21:44.178889Z",
     "start_time": "2021-10-31T15:21:44.173713Z"
    }
   },
   "source": [
    "💾 **Run the cell below to submit your results**"
   ]
  },
  {
   "cell_type": "code",
   "execution_count": 70,
   "id": "25305b0b",
   "metadata": {
    "ExecuteTime": {
     "end_time": "2022-07-13T08:08:16.959418Z",
     "start_time": "2022-07-13T08:08:16.927327Z"
    }
   },
   "outputs": [],
   "source": [
    "from nbresult import ChallengeResult\n",
    "result = ChallengeResult(\n",
    "    \"image_preprocessing\",\n",
    "    X_train_shape = X_train.shape,\n",
    "    Y_train_shape = Y_train.shape,\n",
    "    X_std = X_train[:,:,:,0].std(),\n",
    "    Y_std = Y_train[:,:,:,0].std(),\n",
    "    first_image = Y_train[0]\n",
    ")\n",
    "result.write()"
   ]
  },
  {
   "cell_type": "markdown",
   "id": "34d0de6c",
   "metadata": {},
   "source": [
    "## 3. Convolutional Neural Network (1h10)"
   ]
  },
  {
   "cell_type": "markdown",
   "id": "51b56afa",
   "metadata": {},
   "source": [
    "*C15 Maîtriser les différentes architectures de réseau de neurones : convolutifs pour les images & récurrents pour les séries temporelles et les modèles de traitement automatique du langage (NLP) pour le texte (50%)*  \n",
    "\n",
    "*C16 Utiliser un réseau de neurones convolutifs pour étiqueter des images (100%)*"
   ]
  },
  {
   "cell_type": "markdown",
   "id": "539a8296",
   "metadata": {},
   "source": [
    "A commonly used neural network architecture for image denoising is the __AutoEncoder__.\n",
    "\n",
    "<img src='https://github.com/lewagon/data-images/blob/master/DL/autoencoder.png?raw=true'>\n",
    "\n",
    "Its goal is to learn a compact representation of your data to reconstruct them as precisely as possible.  \n",
    "The loss for such model must incentivize it to have __an output as close to the input as possible__.\n",
    "\n",
    "For this challenge, __you will only be asked to code the Encoder part of the network__, since building a Decoder leverages layers architectures you are not familiar with (yet)."
   ]
  },
  {
   "cell_type": "markdown",
   "id": "a82ac7a1",
   "metadata": {},
   "source": [
    "**If you haven't managed to build your own (X,Y) training sets**  \n",
    "📝 Copy and paste the code snippet below in a new cell and run it    \n",
    "💡 It will give you clean `(X_train, Y_train)`, `(X_test, Y_test)` for this section\n",
    "\n",
    "```python\n",
    "! curl https://wagon-public-datasets.s3.amazonaws.com/certification_france_2021_q2/data_painting_solution.pickle > data_painting_solution.pickle\n",
    "\n",
    "import pickle\n",
    "with open(\"data_painting_solution.pickle\", \"rb\") as file:\n",
    "    (X_train, Y_train, X_test, Y_test) = pickle.load(file)\n",
    "    \n",
    "! rm data_painting_solution.pickle\n",
    "```"
   ]
  },
  {
   "cell_type": "code",
   "execution_count": 71,
   "id": "866bfbd9",
   "metadata": {
    "ExecuteTime": {
     "end_time": "2022-07-13T08:13:31.646219Z",
     "start_time": "2022-07-13T08:11:35.269694Z"
    }
   },
   "outputs": [
    {
     "name": "stdout",
     "output_type": "stream",
     "text": [
      "  % Total    % Received % Xferd  Average Speed   Time    Time     Time  Current\n",
      "                                 Dload  Upload   Total   Spent    Left  Speed\n",
      "100  136M  100  136M    0     0  1207k      0  0:01:56  0:01:56 --:--:-- 1213k\n"
     ]
    }
   ],
   "source": [
    "! curl https://wagon-public-datasets.s3.amazonaws.com/certification_france_2021_q2/data_painting_solution.pickle > data_painting_solution.pickle\n",
    "\n",
    "import pickle\n",
    "with open(\"data_painting_solution.pickle\", \"rb\") as file:\n",
    "    (X_train, Y_train, X_test, Y_test) = pickle.load(file)\n",
    "\n",
    "! rm data_painting_solution.pickle"
   ]
  },
  {
   "cell_type": "markdown",
   "id": "0453fe06",
   "metadata": {},
   "source": [
    "### 3.1 Architecture"
   ]
  },
  {
   "cell_type": "markdown",
   "id": "a2ea5abf",
   "metadata": {},
   "source": [
    "📝 Run the cell below that defines the **decoder**"
   ]
  },
  {
   "cell_type": "code",
   "execution_count": 82,
   "id": "aa778c4a",
   "metadata": {
    "ExecuteTime": {
     "end_time": "2022-07-13T08:36:48.823767Z",
     "start_time": "2022-07-13T08:36:48.781241Z"
    }
   },
   "outputs": [
    {
     "name": "stdout",
     "output_type": "stream",
     "text": [
      "Model: \"decoder\"\n",
      "_________________________________________________________________\n",
      " Layer (type)                Output Shape              Param #   \n",
      "=================================================================\n",
      " reshape_1 (Reshape)         (None, 30, 25, 8)         0         \n",
      "                                                                 \n",
      " conv2d_transpose_2 (Conv2DT  (None, 60, 50, 16)       1168      \n",
      " ranspose)                                                       \n",
      "                                                                 \n",
      " conv2d_transpose_3 (Conv2DT  (None, 120, 100, 32)     4640      \n",
      " ranspose)                                                       \n",
      "                                                                 \n",
      " conv2d_7 (Conv2D)           (None, 120, 100, 3)       867       \n",
      "                                                                 \n",
      "=================================================================\n",
      "Total params: 6,675\n",
      "Trainable params: 6,675\n",
      "Non-trainable params: 0\n",
      "_________________________________________________________________\n"
     ]
    }
   ],
   "source": [
    "from tensorflow.keras import Sequential, layers\n",
    "# We choose to compress images into a latent_dimension of size 6000\n",
    "latent_dimensions = 6000\n",
    "\n",
    "# We build a decoder that takes 1D-vectors of size 6000 to reconstruct images of shape (120,100,3)\n",
    "decoder = Sequential(name='decoder')\n",
    "decoder.add(layers.Reshape((30, 25, 8), input_dim=latent_dimensions))\n",
    "decoder.add(layers.Conv2DTranspose(filters=16, kernel_size=3, strides=2, padding=\"same\", activation=\"relu\"))\n",
    "decoder.add(layers.Conv2DTranspose(filters=32, kernel_size=3, strides=2, padding=\"same\", activation=\"relu\"))\n",
    "decoder.add(layers.Conv2D(filters=3, kernel_size=3, padding=\"same\", activation=\"sigmoid\"))\n",
    "decoder.summary()"
   ]
  },
  {
   "cell_type": "markdown",
   "id": "6c6898a0",
   "metadata": {},
   "source": [
    "📝 Store in **encoder** a model defined using `Sequential` that plugs correctly with the **decoder** defined above  \n",
    "\n",
    "☑️ The output of your **encoder**, before flattening, is the same shape as the input of the **decoder**  \n",
    "☑️ Use a convolutional neural network architecture without transfer learning  \n",
    "☑️ Keep it simple  \n",
    "☑️ Print model summary"
   ]
  },
  {
   "cell_type": "code",
   "execution_count": 85,
   "id": "984a5459",
   "metadata": {
    "ExecuteTime": {
     "end_time": "2022-07-13T08:42:13.499582Z",
     "start_time": "2022-07-13T08:42:13.376519Z"
    },
    "tags": [
     "challengify"
    ]
   },
   "outputs": [
    {
     "name": "stdout",
     "output_type": "stream",
     "text": [
      "Model: \"encoder\"\n",
      "_________________________________________________________________\n",
      " Layer (type)                Output Shape              Param #   \n",
      "=================================================================\n",
      " conv2d_11 (Conv2D)          (None, 119, 99, 8)        104       \n",
      "                                                                 \n",
      " max_pooling2d_9 (MaxPooling  (None, 59, 49, 8)        0         \n",
      " 2D)                                                             \n",
      "                                                                 \n",
      " conv2d_12 (Conv2D)          (None, 58, 48, 16)        528       \n",
      "                                                                 \n",
      " max_pooling2d_10 (MaxPoolin  (None, 29, 24, 16)       0         \n",
      " g2D)                                                            \n",
      "                                                                 \n",
      " conv2d_13 (Conv2D)          (None, 28, 23, 32)        2080      \n",
      "                                                                 \n",
      " max_pooling2d_11 (MaxPoolin  (None, 14, 11, 32)       0         \n",
      " g2D)                                                            \n",
      "                                                                 \n",
      " flatten_3 (Flatten)         (None, 4928)              0         \n",
      "                                                                 \n",
      " dense_2 (Dense)             (None, 6000)              29574000  \n",
      "                                                                 \n",
      "=================================================================\n",
      "Total params: 29,576,712\n",
      "Trainable params: 29,576,712\n",
      "Non-trainable params: 0\n",
      "_________________________________________________________________\n"
     ]
    }
   ],
   "source": [
    "encoder = Sequential(name='encoder')\n",
    "\n",
    "encoder.add(Conv2D(8, (2), input_shape=(120,100,3), activation='relu'))\n",
    "encoder.add(MaxPooling2D(2))\n",
    "\n",
    "encoder.add(Conv2D(16, (2), activation='relu'))\n",
    "encoder.add(MaxPooling2D(2))\n",
    "\n",
    "encoder.add(Conv2D(32, (2), activation='relu'))\n",
    "encoder.add(MaxPooling2D(2))\n",
    "\n",
    "encoder.add(Flatten())\n",
    "encoder.add(Dense(latent_dimensions, activation='tanh'))\n",
    "\n",
    "encoder.summary()"
   ]
  },
  {
   "cell_type": "markdown",
   "id": "637a5b6a",
   "metadata": {},
   "source": [
    "📝 Run the cell below to construct the full **autoencoder**  \n",
    "☑️ Look carefully at the summary to make sure your **encoder** fits with the **decoder**"
   ]
  },
  {
   "cell_type": "code",
   "execution_count": 80,
   "id": "64410b64",
   "metadata": {
    "ExecuteTime": {
     "end_time": "2022-07-13T08:32:21.134444Z",
     "start_time": "2022-07-13T08:32:21.130043Z"
    }
   },
   "outputs": [],
   "source": [
    "from tensorflow.keras import Model"
   ]
  },
  {
   "cell_type": "code",
   "execution_count": 103,
   "id": "c5222bca",
   "metadata": {
    "ExecuteTime": {
     "end_time": "2022-07-13T09:26:12.157201Z",
     "start_time": "2022-07-13T09:26:12.108421Z"
    }
   },
   "outputs": [
    {
     "name": "stdout",
     "output_type": "stream",
     "text": [
      "Model: \"autoencoder\"\n",
      "_________________________________________________________________\n",
      " Layer (type)                Output Shape              Param #   \n",
      "=================================================================\n",
      " input_7 (InputLayer)        [(None, 120, 100, 3)]     0         \n",
      "                                                                 \n",
      " encoder (Sequential)        (None, 6000)              29576712  \n",
      "                                                                 \n",
      " decoder (Sequential)        (None, 120, 100, 3)       6675      \n",
      "                                                                 \n",
      "=================================================================\n",
      "Total params: 29,583,387\n",
      "Trainable params: 29,583,387\n",
      "Non-trainable params: 0\n",
      "_________________________________________________________________\n"
     ]
    }
   ],
   "source": [
    "x = layers.Input(shape=(120, 100, 3))\n",
    "autoencoder = Model(x, decoder(encoder(x)), name=\"autoencoder\")\n",
    "autoencoder.summary()"
   ]
  },
  {
   "cell_type": "markdown",
   "id": "85758852",
   "metadata": {},
   "source": [
    "### 3.2 Training"
   ]
  },
  {
   "cell_type": "markdown",
   "id": "4fb0f3c1",
   "metadata": {},
   "source": [
    "📝 Store in **score_baseline** your baseline score  \n",
    "☑️ Use the Mean Absolute Error  \n",
    "☑️ Your baseline is the *'dumb'* case where you don't manage to denoise anything at all  "
   ]
  },
  {
   "cell_type": "code",
   "execution_count": 119,
   "id": "dde82245",
   "metadata": {
    "ExecuteTime": {
     "end_time": "2022-07-13T09:33:53.773297Z",
     "start_time": "2022-07-13T09:33:53.758268Z"
    }
   },
   "outputs": [
    {
     "data": {
      "text/plain": [
       "0.24177799"
      ]
     },
     "execution_count": 119,
     "metadata": {},
     "output_type": "execute_result"
    }
   ],
   "source": [
    "y_pred = np.mean(X_train)\n",
    "\n",
    "abs_err_baseline = [np.abs(y_true-y_pred) for y_true in Y_test]\n",
    "score_baseline = np.mean(abs_err_baseline)\n",
    "\n",
    "score_baseline"
   ]
  },
  {
   "cell_type": "markdown",
   "id": "def7c160",
   "metadata": {},
   "source": [
    "📝 Train your **autoencoder**\n",
    "\n",
    "☑️ Use an appropriate loss for the task at hand  \n",
    "☑️ Make sure your model does not overfit\n",
    "\n",
    "💡 You will not be judged by the computing power of your computer, your training should last under 3 minutes"
   ]
  },
  {
   "cell_type": "code",
   "execution_count": 104,
   "id": "04ef37d2",
   "metadata": {
    "ExecuteTime": {
     "end_time": "2022-07-13T09:26:16.937374Z",
     "start_time": "2022-07-13T09:26:16.928937Z"
    }
   },
   "outputs": [],
   "source": [
    "autoencoder.compile(loss='mae', optimizer='adam', metrics='mae')"
   ]
  },
  {
   "cell_type": "code",
   "execution_count": 101,
   "id": "8b6872bd",
   "metadata": {
    "ExecuteTime": {
     "end_time": "2022-07-13T09:23:31.300891Z",
     "start_time": "2022-07-13T09:23:31.298446Z"
    }
   },
   "outputs": [],
   "source": [
    "es = EarlyStopping(patience=3, restore_best_weights=True, monitor='val_mae', verbose = 0)"
   ]
  },
  {
   "cell_type": "code",
   "execution_count": 105,
   "id": "04905773",
   "metadata": {
    "ExecuteTime": {
     "end_time": "2022-07-13T09:28:14.114732Z",
     "start_time": "2022-07-13T09:26:18.841323Z"
    }
   },
   "outputs": [
    {
     "name": "stdout",
     "output_type": "stream",
     "text": [
      "Epoch 1/100\n",
      "9/9 [==============================] - 5s 526ms/step - loss: 0.1214 - mae: 0.1214 - val_loss: 0.1312 - val_mae: 0.1312\n",
      "Epoch 2/100\n",
      "9/9 [==============================] - 4s 482ms/step - loss: 0.1117 - mae: 0.1117 - val_loss: 0.1274 - val_mae: 0.1274\n",
      "Epoch 3/100\n",
      "9/9 [==============================] - 4s 447ms/step - loss: 0.1070 - mae: 0.1070 - val_loss: 0.1239 - val_mae: 0.1239\n",
      "Epoch 4/100\n",
      "9/9 [==============================] - 4s 458ms/step - loss: 0.1046 - mae: 0.1046 - val_loss: 0.1226 - val_mae: 0.1226\n",
      "Epoch 5/100\n",
      "9/9 [==============================] - 4s 433ms/step - loss: 0.1033 - mae: 0.1033 - val_loss: 0.1228 - val_mae: 0.1228\n",
      "Epoch 6/100\n",
      "9/9 [==============================] - 4s 491ms/step - loss: 0.1022 - mae: 0.1022 - val_loss: 0.1224 - val_mae: 0.1224\n",
      "Epoch 7/100\n",
      "9/9 [==============================] - 5s 525ms/step - loss: 0.1009 - mae: 0.1009 - val_loss: 0.1232 - val_mae: 0.1232\n",
      "Epoch 8/100\n",
      "9/9 [==============================] - 5s 619ms/step - loss: 0.1001 - mae: 0.1001 - val_loss: 0.1221 - val_mae: 0.1221\n",
      "Epoch 9/100\n",
      "9/9 [==============================] - 5s 532ms/step - loss: 0.0987 - mae: 0.0987 - val_loss: 0.1210 - val_mae: 0.1210\n",
      "Epoch 10/100\n",
      "9/9 [==============================] - 5s 571ms/step - loss: 0.0974 - mae: 0.0974 - val_loss: 0.1202 - val_mae: 0.1202\n",
      "Epoch 11/100\n",
      "9/9 [==============================] - 5s 523ms/step - loss: 0.0963 - mae: 0.0963 - val_loss: 0.1200 - val_mae: 0.1200\n",
      "Epoch 12/100\n",
      "9/9 [==============================] - 5s 529ms/step - loss: 0.0954 - mae: 0.0954 - val_loss: 0.1203 - val_mae: 0.1203\n",
      "Epoch 13/100\n",
      "9/9 [==============================] - 5s 523ms/step - loss: 0.0949 - mae: 0.0949 - val_loss: 0.1205 - val_mae: 0.1205\n",
      "Epoch 14/100\n",
      "9/9 [==============================] - 5s 522ms/step - loss: 0.0942 - mae: 0.0942 - val_loss: 0.1192 - val_mae: 0.1192\n",
      "Epoch 15/100\n",
      "9/9 [==============================] - 5s 520ms/step - loss: 0.0934 - mae: 0.0934 - val_loss: 0.1202 - val_mae: 0.1202\n",
      "Epoch 16/100\n",
      "9/9 [==============================] - 5s 517ms/step - loss: 0.0926 - mae: 0.0926 - val_loss: 0.1190 - val_mae: 0.1190\n",
      "Epoch 17/100\n",
      "9/9 [==============================] - 5s 507ms/step - loss: 0.0913 - mae: 0.0913 - val_loss: 0.1189 - val_mae: 0.1189\n",
      "Epoch 18/100\n",
      "9/9 [==============================] - 5s 509ms/step - loss: 0.0909 - mae: 0.0909 - val_loss: 0.1190 - val_mae: 0.1190\n",
      "Epoch 19/100\n",
      "9/9 [==============================] - 5s 513ms/step - loss: 0.0905 - mae: 0.0905 - val_loss: 0.1185 - val_mae: 0.1185\n",
      "Epoch 20/100\n",
      "9/9 [==============================] - 5s 515ms/step - loss: 0.0904 - mae: 0.0904 - val_loss: 0.1184 - val_mae: 0.1184\n",
      "Epoch 21/100\n",
      "9/9 [==============================] - 5s 510ms/step - loss: 0.0896 - mae: 0.0896 - val_loss: 0.1189 - val_mae: 0.1189\n",
      "Epoch 22/100\n",
      "9/9 [==============================] - 5s 526ms/step - loss: 0.0886 - mae: 0.0886 - val_loss: 0.1178 - val_mae: 0.1178\n",
      "Epoch 23/100\n",
      "9/9 [==============================] - 5s 516ms/step - loss: 0.0876 - mae: 0.0876 - val_loss: 0.1186 - val_mae: 0.1186\n",
      "Epoch 24/100\n",
      "9/9 [==============================] - 5s 513ms/step - loss: 0.0872 - mae: 0.0872 - val_loss: 0.1181 - val_mae: 0.1181\n",
      "Epoch 25/100\n",
      "9/9 [==============================] - 5s 525ms/step - loss: 0.0869 - mae: 0.0869 - val_loss: 0.1181 - val_mae: 0.1181\n"
     ]
    }
   ],
   "source": [
    "history = autoencoder.fit(X_train, Y_train, \n",
    "                          validation_split = 0.3,\n",
    "                          epochs = 100,\n",
    "                          batch_size=32,\n",
    "                          callbacks = [es],\n",
    "                          verbose=1)"
   ]
  },
  {
   "cell_type": "markdown",
   "id": "ef3ef73b",
   "metadata": {},
   "source": [
    "📝 Plot your training and validation loss at each epoch  \n",
    "☑️ Save your figure as **history_cnn.png** in the **tests/** directory  \n",
    "☑️ Make sure to keep the code below at the end of the cell that contains your plots  \n",
    "```python\n",
    "fig = plt.gcf()\n",
    "fig.savefig(\"tests/history_cnn.png\")\n",
    "```"
   ]
  },
  {
   "cell_type": "code",
   "execution_count": 111,
   "id": "8d7bf5b0",
   "metadata": {
    "ExecuteTime": {
     "end_time": "2022-07-13T09:30:09.630163Z",
     "start_time": "2022-07-13T09:30:09.623058Z"
    }
   },
   "outputs": [],
   "source": [
    "def plot_history(history, title=None):\n",
    "    fig, ax = plt.subplots(1,2, figsize=(20,7))\n",
    "    \n",
    "    # --- LOSS --- \n",
    "    \n",
    "    ax[0].plot(history.history['loss'])\n",
    "    ax[0].plot(history.history['val_loss'])\n",
    "    ax[0].set_title('Model loss')\n",
    "    ax[0].set_ylabel('Loss')\n",
    "    ax[0].set_xlabel('Epoch')\n",
    "    ax[0].set_ylim((0,0.3))\n",
    "    ax[0].legend(['Train', 'Test'], loc='best')\n",
    "    ax[0].grid(axis=\"x\",linewidth=0.5)\n",
    "    ax[0].grid(axis=\"y\",linewidth=0.5)\n",
    "    \n",
    "    # --- ACCURACY\n",
    "    \n",
    "    ax[1].plot(history.history['mae'])\n",
    "    ax[1].plot(history.history['val_mae'])\n",
    "    ax[1].set_title('Model MAE')\n",
    "    ax[1].set_ylabel('MAE')\n",
    "    ax[1].set_xlabel('Epoch')\n",
    "    ax[1].legend(['Train', 'Test'], loc='best')\n",
    "    ax[1].set_ylim((0,0.3))\n",
    "    ax[1].grid(axis=\"x\",linewidth=0.5)\n",
    "    ax[1].grid(axis=\"y\",linewidth=0.5)\n"
   ]
  },
  {
   "cell_type": "code",
   "execution_count": 113,
   "id": "b9c274aa",
   "metadata": {
    "ExecuteTime": {
     "end_time": "2022-07-13T09:30:28.230921Z",
     "start_time": "2022-07-13T09:30:27.904136Z"
    }
   },
   "outputs": [
    {
     "data": {
      "image/png": "[encoded data removed]",
      "text/plain": [
       "<Figure size 1440x504 with 2 Axes>"
      ]
     },
     "metadata": {
      "needs_background": "light"
     },
     "output_type": "display_data"
    }
   ],
   "source": [
    "plot_history(history)\n",
    "\n",
    "# Run this code to save your figure as png in the tests folder\n",
    "fig = plt.gcf()\n",
    "fig.savefig(\"tests/history_cnn.png\")"
   ]
  },
  {
   "cell_type": "markdown",
   "id": "11c8d885",
   "metadata": {},
   "source": [
    "📝 Evaluate your performances on your test set  \n",
    "☑️ Store in **Y_pred** your denoised test set  \n",
    "☑️ Store in **score_test** your Mean Absolute Error using **Y_pred** and **Y_test**"
   ]
  },
  {
   "cell_type": "code",
   "execution_count": 106,
   "id": "c13d748f",
   "metadata": {
    "ExecuteTime": {
     "end_time": "2022-07-13T09:28:16.447958Z",
     "start_time": "2022-07-13T09:28:15.989635Z"
    },
    "tags": [
     "challengify"
    ]
   },
   "outputs": [
    {
     "name": "stdout",
     "output_type": "stream",
     "text": [
      "4/4 [==============================] - 0s 73ms/step\n"
     ]
    }
   ],
   "source": [
    "Y_pred = autoencoder.predict(X_test, verbose=1)"
   ]
  },
  {
   "cell_type": "code",
   "execution_count": 107,
   "id": "0e62654c",
   "metadata": {
    "ExecuteTime": {
     "end_time": "2022-07-13T09:28:39.583334Z",
     "start_time": "2022-07-13T09:28:37.791327Z"
    }
   },
   "outputs": [
    {
     "data": {
      "text/plain": [
       "0.29722646"
      ]
     },
     "execution_count": 107,
     "metadata": {},
     "output_type": "execute_result"
    }
   ],
   "source": [
    "abs_err_test = [np.abs(y_true-Y_pred) for y_true in Y_test]\n",
    "score_test = np.mean(abs_err_test)\n",
    "score_test"
   ]
  },
  {
   "cell_type": "markdown",
   "id": "8a7a63d9",
   "metadata": {},
   "source": [
    "📝 Run the cell below to check your result on several image  \n",
    "💡 We asked for a small model, so don't worry if your prediction seems in significantly lower quality than the original"
   ]
  },
  {
   "cell_type": "code",
   "execution_count": 114,
   "id": "60816a03",
   "metadata": {
    "ExecuteTime": {
     "end_time": "2022-07-13T09:30:40.425101Z",
     "start_time": "2022-07-13T09:30:40.102817Z"
    }
   },
   "outputs": [
    {
     "data": {
      "application/vnd.jupyter.widget-view+json": {
       "model_id": "3064cb9664ce4443afb2f4deed63df50",
       "version_major": 2,
       "version_minor": 0
      },
      "text/plain": [
       "interactive(children=(Dropdown(description='index', options=(0, 1, 2, 3, 4, 5, 6, 7, 8, 9, 10, 11, 12, 13, 14,…"
      ]
     },
     "metadata": {},
     "output_type": "display_data"
    }
   ],
   "source": [
    "from ipywidgets import interact\n",
    "\n",
    "@interact(index=range(X_test.shape[0]))\n",
    "def plot(index):\n",
    "    idx = index\n",
    "\n",
    "    fig, axs = plt.subplots(1,3, figsize=(10,5))\n",
    "    axs[0].imshow(Y_test[idx])\n",
    "    axs[0].set_title(\"Clean image.\")\n",
    "\n",
    "    axs[1].imshow(X_test[idx])\n",
    "    axs[1].set_title(\"Noisy image.\")\n",
    "\n",
    "    axs[2].imshow(Y_pred[idx])\n",
    "    axs[2].set_title(\"Prediction.\")"
   ]
  },
  {
   "cell_type": "markdown",
   "id": "87c46729",
   "metadata": {},
   "source": [
    "📝 Choose one of your predicted denoised image and save it  \n",
    "☑️ The target path is **tests/image_denoised.png**"
   ]
  },
  {
   "cell_type": "code",
   "execution_count": 117,
   "id": "c5cb8209",
   "metadata": {
    "ExecuteTime": {
     "end_time": "2022-07-13T09:33:12.391163Z",
     "start_time": "2022-07-13T09:33:12.373724Z"
    },
    "tags": [
     "challengify"
    ]
   },
   "outputs": [],
   "source": [
    "plt.imsave('tests/image_denoised.png', Y_pred[0])"
   ]
  },
  {
   "cell_type": "markdown",
   "id": "5c7b71cf",
   "metadata": {
    "ExecuteTime": {
     "end_time": "2021-10-31T15:21:44.178889Z",
     "start_time": "2021-10-31T15:21:44.173713Z"
    }
   },
   "source": [
    "💾 **Run the cell below to submit your results**"
   ]
  },
  {
   "cell_type": "code",
   "execution_count": 120,
   "id": "3ce318da",
   "metadata": {
    "ExecuteTime": {
     "end_time": "2022-07-13T09:33:58.553157Z",
     "start_time": "2022-07-13T09:33:58.546058Z"
    }
   },
   "outputs": [],
   "source": [
    "from nbresult import ChallengeResult\n",
    "from tensorflow import size\n",
    "\n",
    "result = ChallengeResult(\n",
    "    \"image_network\",\n",
    "    input_shape = list(encoder.input.shape),\n",
    "    output_shape = list(encoder.output.shape),\n",
    "    layer_names = [layer.name for layer in encoder.layers],\n",
    "    trainable_params = sum([size(w_matrix).numpy() for w_matrix in encoder.trainable_variables]),\n",
    "    score_baseline = score_baseline,\n",
    "    score_test = score_test,\n",
    ")\n",
    "result.write()"
   ]
  },
  {
   "cell_type": "markdown",
   "id": "677705d0",
   "metadata": {},
   "source": [
    "# 🎙️ Lyrics detector Challenge (1h)"
   ]
  },
  {
   "cell_type": "markdown",
   "id": "67b0807f",
   "metadata": {},
   "source": [
    "🎯 Design and train a lyrics classifier  \n",
    "☑️ For a given verse $X$, your model should learn to predict the artist $y$  \n",
    "💡 For this challenge the data processing is given"
   ]
  },
  {
   "cell_type": "markdown",
   "id": "2eb56507",
   "metadata": {},
   "source": [
    "💡 This challenge assesses the following skills:\n",
    "- C15 Maîtriser les différentes architectures de réseau de neurones : convolutifs pour les images & récurrents pour les séries temporelles et les modèles de traitement automatique du langage (NLP) pour le texte (50%)\n",
    "- C17 Utiliser un réseau de neurones pour comprendre l'intention d'une phrase en langage naturel (100%)"
   ]
  },
  {
   "cell_type": "markdown",
   "id": "8941916a",
   "metadata": {},
   "source": [
    "## 0. Imports\n",
    "\n",
    "☑️ Use the cell below to load the packages you use in this challenge  \n",
    "💡 All packages used in the (given) preprocessing are imported here, make sure to not delete them"
   ]
  },
  {
   "cell_type": "code",
   "execution_count": 170,
   "id": "c8539678",
   "metadata": {
    "ExecuteTime": {
     "end_time": "2022-07-13T10:11:45.131230Z",
     "start_time": "2022-07-13T10:11:45.126473Z"
    }
   },
   "outputs": [],
   "source": [
    "# Arrays\n",
    "import numpy as np\n",
    "import pandas as pd\n",
    "\n",
    "# Plot\n",
    "import matplotlib.pyplot as plt\n",
    "import seaborn as sns\n",
    "\n",
    "# Processing\n",
    "from tensorflow.keras.preprocessing.text import text_to_word_sequence\n",
    "from tensorflow.keras.preprocessing.sequence import pad_sequences\n",
    "from sklearn.preprocessing import OneHotEncoder\n",
    "\n",
    "# Model\n",
    "from sklearn.model_selection import train_test_split"
   ]
  },
  {
   "cell_type": "markdown",
   "id": "7498b857",
   "metadata": {},
   "source": [
    "## 1. Load Data (given)  "
   ]
  },
  {
   "cell_type": "markdown",
   "id": "ece36ff7",
   "metadata": {},
   "source": [
    "📝 Let's download the dataset  \n",
    "☑️ Keep the original, unaltered data in **raw_data** and work with its copy, **data**  \n",
    "💡 It contains around 4k verses of lyrics from 3 different artists (Drake, Ed Sheeran and Kanye West)"
   ]
  },
  {
   "cell_type": "code",
   "execution_count": 171,
   "id": "9cff73cf",
   "metadata": {
    "ExecuteTime": {
     "end_time": "2022-07-13T10:11:50.399607Z",
     "start_time": "2022-07-13T10:11:48.818057Z"
    }
   },
   "outputs": [
    {
     "data": {
      "text/html": [
       "<div>\n",
       "<style scoped>\n",
       "    .dataframe tbody tr th:only-of-type {\n",
       "        vertical-align: middle;\n",
       "    }\n",
       "\n",
       "    .dataframe tbody tr th {\n",
       "        vertical-align: top;\n",
       "    }\n",
       "\n",
       "    .dataframe thead th {\n",
       "        text-align: right;\n",
       "    }\n",
       "</style>\n",
       "<table border=\"1\" class=\"dataframe\">\n",
       "  <thead>\n",
       "    <tr style=\"text-align: right;\">\n",
       "      <th></th>\n",
       "      <th>artist</th>\n",
       "      <th>verse</th>\n",
       "    </tr>\n",
       "  </thead>\n",
       "  <tbody>\n",
       "    <tr>\n",
       "      <th>0</th>\n",
       "      <td>Drake</td>\n",
       "      <td>Ayy, woah Ayy, ayy Yeah</td>\n",
       "    </tr>\n",
       "    <tr>\n",
       "      <th>1</th>\n",
       "      <td>Drake</td>\n",
       "      <td>I'm makin' a change today The liquor been taki...</td>\n",
       "    </tr>\n",
       "    <tr>\n",
       "      <th>2</th>\n",
       "      <td>Drake</td>\n",
       "      <td>I can't just be with you and only you Yeah, I ...</td>\n",
       "    </tr>\n",
       "    <tr>\n",
       "      <th>3</th>\n",
       "      <td>Drake</td>\n",
       "      <td>Well, summer, all I did was rest, okay? And Ne...</td>\n",
       "    </tr>\n",
       "    <tr>\n",
       "      <th>4</th>\n",
       "      <td>Drake</td>\n",
       "      <td>I'm makin' a change today The liquor been taki...</td>\n",
       "    </tr>\n",
       "    <tr>\n",
       "      <th>...</th>\n",
       "      <td>...</td>\n",
       "      <td>...</td>\n",
       "    </tr>\n",
       "    <tr>\n",
       "      <th>3970</th>\n",
       "      <td>Kanye West</td>\n",
       "      <td>Dame was like, \"Yo you got a deal with Capitol...</td>\n",
       "    </tr>\n",
       "    <tr>\n",
       "      <th>3971</th>\n",
       "      <td>Kanye West</td>\n",
       "      <td>Then one day I just went ahead and played it, ...</td>\n",
       "    </tr>\n",
       "    <tr>\n",
       "      <th>3972</th>\n",
       "      <td>Kanye West</td>\n",
       "      <td>\"I ain't gonna front, it's kinda hot.\"</td>\n",
       "    </tr>\n",
       "    <tr>\n",
       "      <th>3973</th>\n",
       "      <td>Kanye West</td>\n",
       "      <td>Like they still weren't looking at me like a r...</td>\n",
       "    </tr>\n",
       "    <tr>\n",
       "      <th>3974</th>\n",
       "      <td>Kanye West</td>\n",
       "      <td>\"You gotta be under an umbrella, you'll get ra...</td>\n",
       "    </tr>\n",
       "  </tbody>\n",
       "</table>\n",
       "<p>3975 rows × 2 columns</p>\n",
       "</div>"
      ],
      "text/plain": [
       "          artist                                              verse\n",
       "0          Drake                            Ayy, woah Ayy, ayy Yeah\n",
       "1          Drake  I'm makin' a change today The liquor been taki...\n",
       "2          Drake  I can't just be with you and only you Yeah, I ...\n",
       "3          Drake  Well, summer, all I did was rest, okay? And Ne...\n",
       "4          Drake  I'm makin' a change today The liquor been taki...\n",
       "...          ...                                                ...\n",
       "3970  Kanye West  Dame was like, \"Yo you got a deal with Capitol...\n",
       "3971  Kanye West  Then one day I just went ahead and played it, ...\n",
       "3972  Kanye West             \"I ain't gonna front, it's kinda hot.\"\n",
       "3973  Kanye West  Like they still weren't looking at me like a r...\n",
       "3974  Kanye West  \"You gotta be under an umbrella, you'll get ra...\n",
       "\n",
       "[3975 rows x 2 columns]"
      ]
     },
     "execution_count": 171,
     "metadata": {},
     "output_type": "execute_result"
    }
   ],
   "source": [
    "raw_data = pd.read_csv(\"https://wagon-public-datasets.s3.amazonaws.com/certification_france_2021_q2/verses.csv\")\n",
    "data = raw_data.copy()\n",
    "data"
   ]
  },
  {
   "cell_type": "markdown",
   "id": "d271ead6",
   "metadata": {},
   "source": [
    "📝  Look at the 19th verse  \n",
    "💡 Notice the unicode characters, for instance `\\u2005`"
   ]
  },
  {
   "cell_type": "code",
   "execution_count": 172,
   "id": "a0def904",
   "metadata": {
    "ExecuteTime": {
     "end_time": "2022-07-13T10:11:53.315486Z",
     "start_time": "2022-07-13T10:11:53.311286Z"
    }
   },
   "outputs": [
    {
     "data": {
      "text/plain": [
       "'Ayy, yeah Pipe this shit up and I turn this shit up When I was down, I\\u2005was\\u2005down Now them diamonds\\u2005for fun like damn Ayy, yeah'"
      ]
     },
     "execution_count": 172,
     "metadata": {},
     "output_type": "execute_result"
    }
   ],
   "source": [
    "raw_data.verse[18]"
   ]
  },
  {
   "cell_type": "markdown",
   "id": "16ed4ff3",
   "metadata": {},
   "source": [
    "📝 Run the cell below to decode unicode characters  \n",
    "💡 We provide you with a method using [`unidecode.unidecode()`](https://pypi.org/project/Unidecode/) to do so  \n",
    "☑️ Install the `unidecode` package if needed"
   ]
  },
  {
   "cell_type": "code",
   "execution_count": 173,
   "id": "453fcd49",
   "metadata": {
    "ExecuteTime": {
     "end_time": "2022-07-13T10:11:58.610744Z",
     "start_time": "2022-07-13T10:11:56.365349Z"
    }
   },
   "outputs": [
    {
     "name": "stdout",
     "output_type": "stream",
     "text": [
      "Requirement already satisfied: unidecode in /home/mickh/.pyenv/versions/3.8.12/envs/lewagon/lib/python3.8/site-packages (1.3.4)\r\n"
     ]
    }
   ],
   "source": [
    "!pip install unidecode"
   ]
  },
  {
   "cell_type": "code",
   "execution_count": 174,
   "id": "c2aa8648",
   "metadata": {
    "ExecuteTime": {
     "end_time": "2022-07-13T10:12:01.550361Z",
     "start_time": "2022-07-13T10:12:01.440862Z"
    }
   },
   "outputs": [
    {
     "data": {
      "text/plain": [
       "'Ayy, yeah Pipe this shit up and I turn this shit up When I was down, I was down Now them diamonds for fun like damn Ayy, yeah'"
      ]
     },
     "execution_count": 174,
     "metadata": {},
     "output_type": "execute_result"
    }
   ],
   "source": [
    "from unidecode import unidecode\n",
    "data[\"verse\"] = data[\"verse\"].map(unidecode)\n",
    "data.verse[18]"
   ]
  },
  {
   "cell_type": "markdown",
   "id": "0a129928",
   "metadata": {},
   "source": [
    "📝 Run the cell below to drop duplicated verses    \n",
    "💡 Observing duplicates happens quite often with music lyrics  "
   ]
  },
  {
   "cell_type": "code",
   "execution_count": 175,
   "id": "fa8283ee",
   "metadata": {
    "ExecuteTime": {
     "end_time": "2022-07-13T10:12:04.719103Z",
     "start_time": "2022-07-13T10:12:04.708450Z"
    }
   },
   "outputs": [
    {
     "data": {
      "text/plain": [
       "944"
      ]
     },
     "execution_count": 175,
     "metadata": {},
     "output_type": "execute_result"
    }
   ],
   "source": [
    "# Number of duplicated verses\n",
    "data.duplicated().sum()"
   ]
  },
  {
   "cell_type": "code",
   "execution_count": 176,
   "id": "91a5355c",
   "metadata": {
    "ExecuteTime": {
     "end_time": "2022-07-13T10:12:07.597891Z",
     "start_time": "2022-07-13T10:12:07.583588Z"
    }
   },
   "outputs": [
    {
     "data": {
      "text/plain": [
       "0"
      ]
     },
     "execution_count": 176,
     "metadata": {},
     "output_type": "execute_result"
    }
   ],
   "source": [
    "# Drop duplicated verses\n",
    "data.drop_duplicates(inplace=True)\n",
    "\n",
    "# Check again to ensure there are 0 duplicates remaining\n",
    "data.duplicated().sum()"
   ]
  },
  {
   "cell_type": "markdown",
   "id": "3ee219b9",
   "metadata": {
    "ExecuteTime": {
     "end_time": "2021-10-31T15:21:44.178889Z",
     "start_time": "2021-10-31T15:21:44.173713Z"
    }
   },
   "source": [
    "💾 **Run the cell below to submit your results**"
   ]
  },
  {
   "cell_type": "code",
   "execution_count": 177,
   "id": "13f8f7dd",
   "metadata": {
    "ExecuteTime": {
     "end_time": "2022-07-13T10:12:10.432976Z",
     "start_time": "2022-07-13T10:12:10.423710Z"
    }
   },
   "outputs": [],
   "source": [
    "from nbresult import ChallengeResult\n",
    "result = ChallengeResult(\n",
    "    'lyrics_data_loading',\n",
    "    shape=data.shape,\n",
    "    verses=data.verse[:50]\n",
    ")\n",
    "\n",
    "result.write()"
   ]
  },
  {
   "cell_type": "markdown",
   "id": "a8e1933d",
   "metadata": {},
   "source": [
    "## 2. Processing (given)\n",
    "\n",
    "☑️ For this section, read carefully before running the cells, you will need to understand the processing to design an train your model"
   ]
  },
  {
   "cell_type": "markdown",
   "id": "aeb5e39d",
   "metadata": {},
   "source": [
    "📝 Transform the list of strings (verses) into a list of word sequences  \n",
    "💡 These sequences of words are stored in a new column *seq* in your **data**  \n",
    "💡 We use `tensorflow.keras.preprocessing.text.text_to_word_sequence` to achieve this"
   ]
  },
  {
   "cell_type": "code",
   "execution_count": 178,
   "id": "16f7c19e",
   "metadata": {
    "ExecuteTime": {
     "end_time": "2022-07-13T10:12:13.461218Z",
     "start_time": "2022-07-13T10:12:13.402302Z"
    }
   },
   "outputs": [],
   "source": [
    "data[\"seq\"] = [text_to_word_sequence(verse) for verse in data[\"verse\"]]"
   ]
  },
  {
   "cell_type": "markdown",
   "id": "19d82c70",
   "metadata": {},
   "source": [
    "📝 Check the distribution of sequences lengths  \n",
    "💡 From this we choose to limit ourself to 300 words per verse"
   ]
  },
  {
   "cell_type": "code",
   "execution_count": 179,
   "id": "d330ad0c",
   "metadata": {
    "ExecuteTime": {
     "end_time": "2022-07-13T10:12:17.013600Z",
     "start_time": "2022-07-13T10:12:16.775961Z"
    }
   },
   "outputs": [
    {
     "data": {
      "image/png": "[encoded data removed]",
      "text/plain": [
       "<Figure size 432x288 with 1 Axes>"
      ]
     },
     "metadata": {
      "needs_background": "light"
     },
     "output_type": "display_data"
    }
   ],
   "source": [
    "sns.kdeplot(x=data[\"seq\"].map(lambda l: len(l)),\n",
    "            hue=[x for x in data[\"artist\"]],\n",
    "            common_norm=False);"
   ]
  },
  {
   "cell_type": "markdown",
   "id": "fb24de1d",
   "metadata": {},
   "source": [
    "📝 Truncate each sequences to keep only the first `300` words"
   ]
  },
  {
   "cell_type": "code",
   "execution_count": 180,
   "id": "25809e0e",
   "metadata": {
    "ExecuteTime": {
     "end_time": "2022-07-13T10:12:20.568979Z",
     "start_time": "2022-07-13T10:12:20.555187Z"
    }
   },
   "outputs": [],
   "source": [
    "data[\"seq\"] = data[\"seq\"].map(lambda x: x[:300])"
   ]
  },
  {
   "cell_type": "markdown",
   "id": "a1d8b9a8",
   "metadata": {},
   "source": [
    "📝 Train a `gensim.models.Word2Vec` model on your dataset\n",
    "- You want to embed each word into vectors of dimension `100`\n",
    "- No words should be excluded\n",
    "- Give Word2Vec at least 50 epochs to be sure it converges\n",
    "- Store these lists of vectors in a new column `data[\"embed\"]`"
   ]
  },
  {
   "cell_type": "code",
   "execution_count": 181,
   "id": "ab278862",
   "metadata": {
    "ExecuteTime": {
     "end_time": "2022-07-13T10:12:32.061241Z",
     "start_time": "2022-07-13T10:12:24.444406Z"
    }
   },
   "outputs": [],
   "source": [
    "from gensim.models import Word2Vec\n",
    "\n",
    "word2vec = Word2Vec(\n",
    "    sentences=data[\"seq\"],\n",
    "    vector_size=100,\n",
    "    window=5,\n",
    "    min_count=0,\n",
    "    epochs=50, \n",
    ")"
   ]
  },
  {
   "cell_type": "code",
   "execution_count": 182,
   "id": "e5cd7e74",
   "metadata": {
    "ExecuteTime": {
     "end_time": "2022-07-13T10:12:35.729249Z",
     "start_time": "2022-07-13T10:12:35.069767Z"
    }
   },
   "outputs": [
    {
     "data": {
      "text/html": [
       "<div>\n",
       "<style scoped>\n",
       "    .dataframe tbody tr th:only-of-type {\n",
       "        vertical-align: middle;\n",
       "    }\n",
       "\n",
       "    .dataframe tbody tr th {\n",
       "        vertical-align: top;\n",
       "    }\n",
       "\n",
       "    .dataframe thead th {\n",
       "        text-align: right;\n",
       "    }\n",
       "</style>\n",
       "<table border=\"1\" class=\"dataframe\">\n",
       "  <thead>\n",
       "    <tr style=\"text-align: right;\">\n",
       "      <th></th>\n",
       "      <th>artist</th>\n",
       "      <th>verse</th>\n",
       "      <th>seq</th>\n",
       "      <th>embed</th>\n",
       "    </tr>\n",
       "  </thead>\n",
       "  <tbody>\n",
       "    <tr>\n",
       "      <th>0</th>\n",
       "      <td>Drake</td>\n",
       "      <td>Ayy, woah Ayy, ayy Yeah</td>\n",
       "      <td>[ayy, woah, ayy, ayy, yeah]</td>\n",
       "      <td>[[1.4099536, 1.8490736, -0.17796753, -1.608688...</td>\n",
       "    </tr>\n",
       "    <tr>\n",
       "      <th>1</th>\n",
       "      <td>Drake</td>\n",
       "      <td>I'm makin' a change today The liquor been taki...</td>\n",
       "      <td>[i'm, makin', a, change, today, the, liquor, b...</td>\n",
       "      <td>[[1.413309, -3.2764633, -2.4153738, 0.49378768...</td>\n",
       "    </tr>\n",
       "    <tr>\n",
       "      <th>2</th>\n",
       "      <td>Drake</td>\n",
       "      <td>I can't just be with you and only you Yeah, I ...</td>\n",
       "      <td>[i, can't, just, be, with, you, and, only, you...</td>\n",
       "      <td>[[1.6250268, 0.92148894, -0.07503409, -0.88544...</td>\n",
       "    </tr>\n",
       "    <tr>\n",
       "      <th>3</th>\n",
       "      <td>Drake</td>\n",
       "      <td>Well, summer, all I did was rest, okay? And Ne...</td>\n",
       "      <td>[well, summer, all, i, did, was, rest, okay, a...</td>\n",
       "      <td>[[-0.09267148, -0.91219693, 0.024462799, 1.907...</td>\n",
       "    </tr>\n",
       "    <tr>\n",
       "      <th>4</th>\n",
       "      <td>Drake</td>\n",
       "      <td>I'm makin' a change today The liquor been taki...</td>\n",
       "      <td>[i'm, makin', a, change, today, the, liquor, b...</td>\n",
       "      <td>[[1.413309, -3.2764633, -2.4153738, 0.49378768...</td>\n",
       "    </tr>\n",
       "    <tr>\n",
       "      <th>...</th>\n",
       "      <td>...</td>\n",
       "      <td>...</td>\n",
       "      <td>...</td>\n",
       "      <td>...</td>\n",
       "    </tr>\n",
       "    <tr>\n",
       "      <th>3970</th>\n",
       "      <td>Kanye West</td>\n",
       "      <td>Dame was like, \"Yo you got a deal with Capitol...</td>\n",
       "      <td>[dame, was, like, yo, you, got, a, deal, with,...</td>\n",
       "      <td>[[-0.16516085, 0.32680938, 0.7630676, 0.122504...</td>\n",
       "    </tr>\n",
       "    <tr>\n",
       "      <th>3971</th>\n",
       "      <td>Kanye West</td>\n",
       "      <td>Then one day I just went ahead and played it, ...</td>\n",
       "      <td>[then, one, day, i, just, went, ahead, and, pl...</td>\n",
       "      <td>[[0.60782254, 0.2124402, 2.318183, -2.2170413,...</td>\n",
       "    </tr>\n",
       "    <tr>\n",
       "      <th>3972</th>\n",
       "      <td>Kanye West</td>\n",
       "      <td>\"I ain't gonna front, it's kinda hot.\"</td>\n",
       "      <td>[i, ain't, gonna, front, it's, kinda, hot]</td>\n",
       "      <td>[[1.6250268, 0.92148894, -0.07503409, -0.88544...</td>\n",
       "    </tr>\n",
       "    <tr>\n",
       "      <th>3973</th>\n",
       "      <td>Kanye West</td>\n",
       "      <td>Like they still weren't looking at me like a r...</td>\n",
       "      <td>[like, they, still, weren't, looking, at, me, ...</td>\n",
       "      <td>[[-1.6272503, 3.1840997, -0.26413852, 0.672985...</td>\n",
       "    </tr>\n",
       "    <tr>\n",
       "      <th>3974</th>\n",
       "      <td>Kanye West</td>\n",
       "      <td>\"You gotta be under an umbrella, you'll get ra...</td>\n",
       "      <td>[you, gotta, be, under, an, umbrella, you'll, ...</td>\n",
       "      <td>[[0.88637877, 0.41510954, -1.3017178, 0.550488...</td>\n",
       "    </tr>\n",
       "  </tbody>\n",
       "</table>\n",
       "<p>3031 rows × 4 columns</p>\n",
       "</div>"
      ],
      "text/plain": [
       "          artist                                              verse  \\\n",
       "0          Drake                            Ayy, woah Ayy, ayy Yeah   \n",
       "1          Drake  I'm makin' a change today The liquor been taki...   \n",
       "2          Drake  I can't just be with you and only you Yeah, I ...   \n",
       "3          Drake  Well, summer, all I did was rest, okay? And Ne...   \n",
       "4          Drake  I'm makin' a change today The liquor been taki...   \n",
       "...          ...                                                ...   \n",
       "3970  Kanye West  Dame was like, \"Yo you got a deal with Capitol...   \n",
       "3971  Kanye West  Then one day I just went ahead and played it, ...   \n",
       "3972  Kanye West             \"I ain't gonna front, it's kinda hot.\"   \n",
       "3973  Kanye West  Like they still weren't looking at me like a r...   \n",
       "3974  Kanye West  \"You gotta be under an umbrella, you'll get ra...   \n",
       "\n",
       "                                                    seq  \\\n",
       "0                           [ayy, woah, ayy, ayy, yeah]   \n",
       "1     [i'm, makin', a, change, today, the, liquor, b...   \n",
       "2     [i, can't, just, be, with, you, and, only, you...   \n",
       "3     [well, summer, all, i, did, was, rest, okay, a...   \n",
       "4     [i'm, makin', a, change, today, the, liquor, b...   \n",
       "...                                                 ...   \n",
       "3970  [dame, was, like, yo, you, got, a, deal, with,...   \n",
       "3971  [then, one, day, i, just, went, ahead, and, pl...   \n",
       "3972         [i, ain't, gonna, front, it's, kinda, hot]   \n",
       "3973  [like, they, still, weren't, looking, at, me, ...   \n",
       "3974  [you, gotta, be, under, an, umbrella, you'll, ...   \n",
       "\n",
       "                                                  embed  \n",
       "0     [[1.4099536, 1.8490736, -0.17796753, -1.608688...  \n",
       "1     [[1.413309, -3.2764633, -2.4153738, 0.49378768...  \n",
       "2     [[1.6250268, 0.92148894, -0.07503409, -0.88544...  \n",
       "3     [[-0.09267148, -0.91219693, 0.024462799, 1.907...  \n",
       "4     [[1.413309, -3.2764633, -2.4153738, 0.49378768...  \n",
       "...                                                 ...  \n",
       "3970  [[-0.16516085, 0.32680938, 0.7630676, 0.122504...  \n",
       "3971  [[0.60782254, 0.2124402, 2.318183, -2.2170413,...  \n",
       "3972  [[1.6250268, 0.92148894, -0.07503409, -0.88544...  \n",
       "3973  [[-1.6272503, 3.1840997, -0.26413852, 0.672985...  \n",
       "3974  [[0.88637877, 0.41510954, -1.3017178, 0.550488...  \n",
       "\n",
       "[3031 rows x 4 columns]"
      ]
     },
     "execution_count": 182,
     "metadata": {},
     "output_type": "execute_result"
    }
   ],
   "source": [
    "data['embed'] = [[word2vec.wv[word] for word in verse] \n",
    "                 for verse in data['seq']]\n",
    "data"
   ]
  },
  {
   "cell_type": "markdown",
   "id": "ac783bca",
   "metadata": {},
   "source": [
    "📝  Create your a `ndarray` **X** of shape $(number\\_of\\_verses,\\ maximum\\_sequence\\_length,\\ embedding\\_size)$\n",
    "\n",
    "💡 Keep 300 words per verse (verses shorter than 300 are padded with zeros at the end) "
   ]
  },
  {
   "cell_type": "code",
   "execution_count": 183,
   "id": "84386d9d",
   "metadata": {
    "ExecuteTime": {
     "end_time": "2022-07-13T10:12:39.660544Z",
     "start_time": "2022-07-13T10:12:39.276173Z"
    }
   },
   "outputs": [
    {
     "data": {
      "text/plain": [
       "(3031, 300, 100)"
      ]
     },
     "execution_count": 183,
     "metadata": {},
     "output_type": "execute_result"
    }
   ],
   "source": [
    "X = pad_sequences(\n",
    "    data[\"embed\"],\n",
    "    dtype='float',\n",
    "    padding='post'\n",
    ")\n",
    "X.shape"
   ]
  },
  {
   "cell_type": "markdown",
   "id": "1df39cad",
   "metadata": {},
   "source": [
    "📝  Create your a `ndarray` **y** of shape $(number\\_of\\_verses,\\ number\\_of\\_classes)$ that contains the one-hot encoded list of labels "
   ]
  },
  {
   "cell_type": "code",
   "execution_count": 184,
   "id": "9aa1a1ad",
   "metadata": {
    "ExecuteTime": {
     "end_time": "2022-07-13T10:12:43.229211Z",
     "start_time": "2022-07-13T10:12:43.221914Z"
    }
   },
   "outputs": [
    {
     "data": {
      "text/plain": [
       "(3031, 3)"
      ]
     },
     "execution_count": 184,
     "metadata": {},
     "output_type": "execute_result"
    }
   ],
   "source": [
    "y = OneHotEncoder().fit_transform(data[['artist']]).toarray()\n",
    "y.shape"
   ]
  },
  {
   "cell_type": "markdown",
   "id": "6980b008",
   "metadata": {},
   "source": [
    "📝 Split the dataset to create both the train and test sets"
   ]
  },
  {
   "cell_type": "code",
   "execution_count": 185,
   "id": "d4249164",
   "metadata": {
    "ExecuteTime": {
     "end_time": "2022-07-13T10:12:46.902946Z",
     "start_time": "2022-07-13T10:12:46.754908Z"
    }
   },
   "outputs": [],
   "source": [
    "X_train, X_test, y_train, y_test = train_test_split(X, y, test_size=0.2)"
   ]
  },
  {
   "cell_type": "markdown",
   "id": "0934d431",
   "metadata": {
    "ExecuteTime": {
     "end_time": "2021-10-31T15:21:44.178889Z",
     "start_time": "2021-10-31T15:21:44.173713Z"
    }
   },
   "source": [
    "💾 **Run the cell below to submit your results**"
   ]
  },
  {
   "cell_type": "code",
   "execution_count": 186,
   "id": "2350cfde",
   "metadata": {
    "ExecuteTime": {
     "end_time": "2022-07-13T10:12:50.524468Z",
     "start_time": "2022-07-13T10:12:50.390648Z"
    }
   },
   "outputs": [],
   "source": [
    "from nbresult import ChallengeResult\n",
    "result = ChallengeResult(\n",
    "    'lyrics_data_preprocessing',\n",
    "    n_zeros = np.sum(X == 0),\n",
    "    X_shape = X.shape,\n",
    "    y_shape = y.shape,\n",
    ")\n",
    "\n",
    "result.write()"
   ]
  },
  {
   "cell_type": "markdown",
   "id": "f666e449",
   "metadata": {},
   "source": [
    "## 3. Recurrent Neural Network"
   ]
  },
  {
   "cell_type": "markdown",
   "id": "b9017ce5",
   "metadata": {},
   "source": [
    "*C15 Maîtriser les différentes architectures de réseau de neurones : convolutifs pour les images & récurrents pour les séries temporelles et les modèles de traitement automatique du langage (NLP) pour le texte (50%)*  \n",
    "\n",
    "*C17 Utiliser un réseau de neurones pour comprendre l'intention d'une phrase en langage naturel (100%)*"
   ]
  },
  {
   "cell_type": "markdown",
   "id": "3df4efd3",
   "metadata": {},
   "source": [
    "📝 Store in **score_baseline** your baseline score  \n",
    "☑️ Use the Accuracy  \n",
    "☑️ Your baseline is the 'dumb' case where you predict only the most frequent artist"
   ]
  },
  {
   "cell_type": "code",
   "execution_count": 187,
   "id": "ddb30c0f",
   "metadata": {
    "ExecuteTime": {
     "end_time": "2022-07-13T10:12:54.027409Z",
     "start_time": "2022-07-13T10:12:54.023076Z"
    },
    "tags": [
     "challengify"
    ]
   },
   "outputs": [
    {
     "data": {
      "text/plain": [
       "0    Drake\n",
       "dtype: object"
      ]
     },
     "execution_count": 187,
     "metadata": {},
     "output_type": "execute_result"
    }
   ],
   "source": [
    "data['artist'].mode()"
   ]
  },
  {
   "cell_type": "code",
   "execution_count": 188,
   "id": "77ca397b",
   "metadata": {
    "ExecuteTime": {
     "end_time": "2022-07-13T10:12:57.681015Z",
     "start_time": "2022-07-13T10:12:57.675892Z"
    }
   },
   "outputs": [
    {
     "data": {
      "text/plain": [
       "0.45892444737710325"
      ]
     },
     "execution_count": 188,
     "metadata": {},
     "output_type": "execute_result"
    }
   ],
   "source": [
    "score_baseline = len(data[data['artist']=='Drake'])/len(data)\n",
    "score_baseline"
   ]
  },
  {
   "cell_type": "markdown",
   "id": "b633c37e",
   "metadata": {},
   "source": [
    "📝 Store in **model** using `Sequential`\n",
    "❓ **Create a RNN architecture to predict the artists `y`  given verses `X`** :\n",
    "\n",
    "☑️ Use a recurrent neural network architecture  \n",
    "☑️ Keep it simple: use only one LSTM or GRU layer  \n",
    "☑️ Limit yourself to one *hidden* dense layer between the LSTM/GRU layer and the output layer  \n",
    "☑️ Don't forget to take care of the fake \"zeros\" added when padding"
   ]
  },
  {
   "cell_type": "code",
   "execution_count": 189,
   "id": "c4775201",
   "metadata": {
    "ExecuteTime": {
     "end_time": "2022-07-13T10:13:01.964013Z",
     "start_time": "2022-07-13T10:13:01.363747Z"
    },
    "tags": [
     "challengify"
    ]
   },
   "outputs": [
    {
     "name": "stdout",
     "output_type": "stream",
     "text": [
      "Model: \"sequential_5\"\n",
      "_________________________________________________________________\n",
      " Layer (type)                Output Shape              Param #   \n",
      "=================================================================\n",
      " masking_4 (Masking)         (None, 300, 100)          0         \n",
      "                                                                 \n",
      " lstm_3 (LSTM)               (None, 300, 10)           4440      \n",
      "                                                                 \n",
      " simple_rnn_3 (SimpleRNN)    (None, 3)                 42        \n",
      "                                                                 \n",
      " dense_6 (Dense)             (None, 1)                 4         \n",
      "                                                                 \n",
      "=================================================================\n",
      "Total params: 4,486\n",
      "Trainable params: 4,486\n",
      "Non-trainable params: 0\n",
      "_________________________________________________________________\n"
     ]
    }
   ],
   "source": [
    "model = Sequential()\n",
    "\n",
    "model.add(layers.Masking(mask_value=-1, input_shape= X_train.shape[1:]))\n",
    "model.add(layers.LSTM(10, input_shape=X_train.shape[1:],\n",
    "                              return_sequences=True)) \n",
    "model.add(layers.SimpleRNN(3, return_sequences=False))\n",
    "model.add(Dense(1, activation='sigmoid'))\n",
    "\n",
    "model.summary()\n"
   ]
  },
  {
   "cell_type": "markdown",
   "id": "da8d9b97",
   "metadata": {},
   "source": [
    "📝 Train your **model**\n",
    "\n",
    "☑️ Use an appropriate loss for the task at hand  \n",
    "☑️ Make sure your model does not overfit\n",
    "\n",
    "💡 You will not be judged by the computing power of your computer, your training should last under 3 minutes"
   ]
  },
  {
   "cell_type": "code",
   "execution_count": 190,
   "id": "e2af9a5a",
   "metadata": {
    "ExecuteTime": {
     "end_time": "2022-07-13T10:13:05.563498Z",
     "start_time": "2022-07-13T10:13:05.557317Z"
    },
    "tags": [
     "challengify"
    ]
   },
   "outputs": [],
   "source": [
    "model.compile(loss='mse', optimizer='rmsprop', metrics='mae')"
   ]
  },
  {
   "cell_type": "code",
   "execution_count": null,
   "id": "5224ee4f",
   "metadata": {
    "ExecuteTime": {
     "start_time": "2022-07-13T10:12:04.555Z"
    }
   },
   "outputs": [
    {
     "name": "stdout",
     "output_type": "stream",
     "text": [
      "Epoch 1/50\n",
      "76/76 [==============================] - ETA: 0s - loss: 0.2242 - mae: 0.4531WARNING:tensorflow:Early stopping conditioned on metric `val_mae` which is not available. Available metrics are: loss,mae\n",
      "76/76 [==============================] - 15s 152ms/step - loss: 0.2242 - mae: 0.4531\n",
      "Epoch 2/50\n",
      "76/76 [==============================] - ETA: 0s - loss: 0.2223 - mae: 0.4443WARNING:tensorflow:Early stopping conditioned on metric `val_mae` which is not available. Available metrics are: loss,mae\n",
      "76/76 [==============================] - 12s 159ms/step - loss: 0.2223 - mae: 0.4443\n",
      "Epoch 3/50\n",
      "76/76 [==============================] - ETA: 0s - loss: 0.2222 - mae: 0.4444WARNING:tensorflow:Early stopping conditioned on metric `val_mae` which is not available. Available metrics are: loss,mae\n",
      "76/76 [==============================] - 12s 156ms/step - loss: 0.2222 - mae: 0.4444\n",
      "Epoch 4/50\n",
      "76/76 [==============================] - ETA: 0s - loss: 0.2222 - mae: 0.4444WARNING:tensorflow:Early stopping conditioned on metric `val_mae` which is not available. Available metrics are: loss,mae\n",
      "76/76 [==============================] - 13s 170ms/step - loss: 0.2222 - mae: 0.4444\n",
      "Epoch 5/50\n",
      "76/76 [==============================] - ETA: 0s - loss: 0.2222 - mae: 0.4444WARNING:tensorflow:Early stopping conditioned on metric `val_mae` which is not available. Available metrics are: loss,mae\n",
      "76/76 [==============================] - 12s 159ms/step - loss: 0.2222 - mae: 0.4444\n",
      "Epoch 6/50\n",
      "76/76 [==============================] - ETA: 0s - loss: 0.2222 - mae: 0.4445WARNING:tensorflow:Early stopping conditioned on metric `val_mae` which is not available. Available metrics are: loss,mae\n",
      "76/76 [==============================] - 13s 169ms/step - loss: 0.2222 - mae: 0.4445\n",
      "Epoch 7/50\n",
      "76/76 [==============================] - ETA: 0s - loss: 0.2222 - mae: 0.4444WARNING:tensorflow:Early stopping conditioned on metric `val_mae` which is not available. Available metrics are: loss,mae\n",
      "76/76 [==============================] - 14s 185ms/step - loss: 0.2222 - mae: 0.4444\n",
      "Epoch 8/50\n",
      "76/76 [==============================] - ETA: 0s - loss: 0.2222 - mae: 0.4444WARNING:tensorflow:Early stopping conditioned on metric `val_mae` which is not available. Available metrics are: loss,mae\n",
      "76/76 [==============================] - 12s 161ms/step - loss: 0.2222 - mae: 0.4444\n",
      "Epoch 9/50\n",
      "76/76 [==============================] - ETA: 0s - loss: 0.2222 - mae: 0.4444WARNING:tensorflow:Early stopping conditioned on metric `val_mae` which is not available. Available metrics are: loss,mae\n",
      "76/76 [==============================] - 12s 155ms/step - loss: 0.2222 - mae: 0.4444\n",
      "Epoch 10/50\n",
      "76/76 [==============================] - ETA: 0s - loss: 0.2222 - mae: 0.4444WARNING:tensorflow:Early stopping conditioned on metric `val_mae` which is not available. Available metrics are: loss,mae\n",
      "76/76 [==============================] - 12s 160ms/step - loss: 0.2222 - mae: 0.4444\n",
      "Epoch 11/50\n",
      "76/76 [==============================] - ETA: 0s - loss: 0.2222 - mae: 0.4444WARNING:tensorflow:Early stopping conditioned on metric `val_mae` which is not available. Available metrics are: loss,mae\n",
      "76/76 [==============================] - 12s 161ms/step - loss: 0.2222 - mae: 0.4444\n",
      "Epoch 12/50\n",
      "76/76 [==============================] - ETA: 0s - loss: 0.2222 - mae: 0.4444WARNING:tensorflow:Early stopping conditioned on metric `val_mae` which is not available. Available metrics are: loss,mae\n",
      "76/76 [==============================] - 13s 176ms/step - loss: 0.2222 - mae: 0.4444\n",
      "Epoch 13/50\n",
      "76/76 [==============================] - ETA: 0s - loss: 0.2222 - mae: 0.4444WARNING:tensorflow:Early stopping conditioned on metric `val_mae` which is not available. Available metrics are: loss,mae\n",
      "76/76 [==============================] - 12s 159ms/step - loss: 0.2222 - mae: 0.4444\n",
      "Epoch 14/50\n",
      "76/76 [==============================] - ETA: 0s - loss: 0.2222 - mae: 0.4444WARNING:tensorflow:Early stopping conditioned on metric `val_mae` which is not available. Available metrics are: loss,mae\n",
      "76/76 [==============================] - 13s 169ms/step - loss: 0.2222 - mae: 0.4444\n",
      "Epoch 15/50\n",
      "76/76 [==============================] - ETA: 0s - loss: 0.2222 - mae: 0.4444WARNING:tensorflow:Early stopping conditioned on metric `val_mae` which is not available. Available metrics are: loss,mae\n",
      "76/76 [==============================] - 13s 165ms/step - loss: 0.2222 - mae: 0.4444\n",
      "Epoch 16/50\n",
      "76/76 [==============================] - ETA: 0s - loss: 0.2222 - mae: 0.4444WARNING:tensorflow:Early stopping conditioned on metric `val_mae` which is not available. Available metrics are: loss,mae\n",
      "76/76 [==============================] - 13s 174ms/step - loss: 0.2222 - mae: 0.4444\n",
      "Epoch 17/50\n",
      "12/76 [===>..........................] - ETA: 11s - loss: 0.2222 - mae: 0.4444"
     ]
    }
   ],
   "source": [
    "model.fit(X_train, y_train, batch_size=32, epochs=50, callbacks = [es])"
   ]
  },
  {
   "cell_type": "code",
   "execution_count": null,
   "id": "878e39c8",
   "metadata": {
    "ExecuteTime": {
     "start_time": "2022-07-13T10:12:05.450Z"
    }
   },
   "outputs": [],
   "source": [
    "history.history.keys()"
   ]
  },
  {
   "cell_type": "markdown",
   "id": "3f464ba4",
   "metadata": {},
   "source": [
    "📝 Plot your training and validation loss at each epoch  \n",
    "☑️ Save your figure as **history_rnn.png** in the **tests/** directory  \n",
    "☑️ Make sure to keep the code below at the end of the cell that contains your plots  \n",
    "```python\n",
    "fig = plt.gcf()\n",
    "fig.savefig(\"tests/history_rnn.png\")\n",
    "```"
   ]
  },
  {
   "cell_type": "code",
   "execution_count": null,
   "id": "28bc7771",
   "metadata": {},
   "outputs": [],
   "source": [
    "def plot_history(history, title=None):\n",
    "    fig, ax = plt.subplots(1,2, figsize=(20,7))\n",
    "    \n",
    "    # --- LOSS --- \n",
    "    \n",
    "    ax[0].plot(history.history['loss'])\n",
    "    ax[0].plot(history.history['val_loss'])\n",
    "    ax[0].set_title('Model loss')\n",
    "    ax[0].set_ylabel('Loss')\n",
    "    ax[0].set_xlabel('Epoch')\n",
    "    ax[0].set_ylim((0,0.3))\n",
    "    ax[0].legend(['Train', 'Test'], loc='best')\n",
    "    ax[0].grid(axis=\"x\",linewidth=0.5)\n",
    "    ax[0].grid(axis=\"y\",linewidth=0.5)\n",
    "    \n",
    "    # --- ACCURACY\n",
    "    \n",
    "    ax[1].plot(history.history['mae'])\n",
    "    ax[1].plot(history.history['val_mae'])\n",
    "    ax[1].set_title('Model MAE')\n",
    "    ax[1].set_ylabel('MAE')\n",
    "    ax[1].set_xlabel('Epoch')\n",
    "    ax[1].legend(['Train', 'Test'], loc='best')\n",
    "    ax[1].set_ylim((0,0.3))\n",
    "    ax[1].grid(axis=\"x\",linewidth=0.5)\n",
    "    ax[1].grid(axis=\"y\",linewidth=0.5)"
   ]
  },
  {
   "cell_type": "code",
   "execution_count": null,
   "id": "c959e1fc",
   "metadata": {
    "ExecuteTime": {
     "end_time": "2022-07-13T07:29:25.153090Z",
     "start_time": "2022-07-13T07:29:25.153078Z"
    }
   },
   "outputs": [],
   "source": [
    "# Plot below your train/val loss history\n",
    "plot_history(history)\n",
    "\n",
    "# Run also this code to save figure as jpg in path below (it's your job to ensure it works)\n",
    "fig = plt.gcf()\n",
    "plt.savefig(\"tests/history_rnn.png\")"
   ]
  },
  {
   "cell_type": "markdown",
   "id": "4c161566",
   "metadata": {},
   "source": [
    "📝 Evaluate your performances on your test set  \n",
    "☑️ Use the `evaluate` method a `Sequential` model to do so  \n",
    "☑️ Store the resulting accuracy score in **score_test**"
   ]
  },
  {
   "cell_type": "code",
   "execution_count": null,
   "id": "673ca947",
   "metadata": {
    "ExecuteTime": {
     "end_time": "2022-07-13T10:11:37.691728Z",
     "start_time": "2022-07-13T10:11:37.691709Z"
    },
    "tags": [
     "challengify"
    ]
   },
   "outputs": [],
   "source": [
    "score_test = model.evaluate(X_test, y_test)"
   ]
  },
  {
   "cell_type": "markdown",
   "id": "dd4c303e",
   "metadata": {
    "ExecuteTime": {
     "end_time": "2021-10-31T15:21:44.178889Z",
     "start_time": "2021-10-31T15:21:44.173713Z"
    }
   },
   "source": [
    "💾 **Run the cell below to submit your results**"
   ]
  },
  {
   "cell_type": "code",
   "execution_count": null,
   "id": "158b7b52",
   "metadata": {
    "ExecuteTime": {
     "end_time": "2022-07-13T10:11:37.697489Z",
     "start_time": "2022-07-13T10:11:37.697461Z"
    }
   },
   "outputs": [],
   "source": [
    "from nbresult import ChallengeResult\n",
    "\n",
    "result = ChallengeResult(\n",
    "    \"lyrics_network\",\n",
    "    loss = model.loss,\n",
    "    input_shape = list(model.input.shape),\n",
    "    layer_names = [layer.name for layer in model.layers],\n",
    "    final_activation = model.layers[-1].activation.__wrapped__._keras_api_names[0],\n",
    "    score_baseline = score_baseline,\n",
    "    score_test = score_test,\n",
    ")\n",
    "result.write()"
   ]
  },
  {
   "cell_type": "code",
   "execution_count": null,
   "id": "9d923548",
   "metadata": {},
   "outputs": [],
   "source": []
  }
 ],
 "metadata": {
  "kernelspec": {
   "display_name": "Python 3 (ipykernel)",
   "language": "python",
   "name": "python3"
  },
  "language_info": {
   "codemirror_mode": {
    "name": "ipython",
    "version": 3
   },
   "file_extension": ".py",
   "mimetype": "text/x-python",
   "name": "python",
   "nbconvert_exporter": "python",
   "pygments_lexer": "ipython3",
   "version": "3.8.12"
  },
  "toc": {
   "base_numbering": 1,
   "nav_menu": {},
   "number_sections": false,
   "sideBar": true,
   "skip_h1_title": false,
   "title_cell": "Table of Contents",
   "title_sidebar": "Contents",
   "toc_cell": false,
   "toc_position": {},
   "toc_section_display": true,
   "toc_window_display": true
  },
  "varInspector": {
   "cols": {
    "lenName": 16,
    "lenType": 16,
    "lenVar": 40
   },
   "kernels_config": {
    "python": {
     "delete_cmd_postfix": "",
     "delete_cmd_prefix": "del ",
     "library": "var_list.py",
     "varRefreshCmd": "print(var_dic_list())"
    },
    "r": {
     "delete_cmd_postfix": ") ",
     "delete_cmd_prefix": "rm(",
     "library": "var_list.r",
     "varRefreshCmd": "cat(var_dic_list()) "
    }
   },
   "types_to_exclude": [
    "module",
    "function",
    "builtin_function_or_method",
    "instance",
    "_Feature"
   ],
   "window_display": false
  }
 },
 "nbformat": 4,
 "nbformat_minor": 5
}
